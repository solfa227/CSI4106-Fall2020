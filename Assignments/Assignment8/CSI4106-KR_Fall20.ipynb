{
 "cells": [
  {
   "cell_type": "markdown",
   "metadata": {},
   "source": [
    "# Notebook 8 - Knowledge Representation (KR)"
   ]
  },
  {
   "cell_type": "markdown",
   "metadata": {},
   "source": [
    "CSI4106 Artificial Intelligence   \n",
    "Fall 2020  \n",
    "Prepared by Julian Templeton and Caroline Barrière"
   ]
  },
  {
   "cell_type": "markdown",
   "metadata": {},
   "source": [
    "***INTRODUCTION***:  \n",
    "\n",
    "When reading text, understanding the type of entities with the text helps extract additional information about the entity. Through the use of Named Entity Recognition (NER), we are able to determine whether an entity is a Person, Organization, Country, ... When exploring text online, we also occassionally see entities have clickable links to webpages with more information on the entity. This is a form of enhancing the text to allow readers to easily access the information needed to understand each entity from the text and its content.    \n",
    "\n",
    "In this notebook we will be revisiting the Covid-19 related news dataset from notebook 7 to explore how we can improve spaCy's NER disambiguation and enhance the text from the news articles through the use of entity linking. This will be done in two parts, where we first use text coherence for NER disambiguation and then perform text enhancement with entity linking.    \n",
    "\n",
    "**For this notebook, do not modify function definitions and be sure to use the setup that is provided to you AND only submit this file, nothing else is needed**.\n",
    "\n",
    "This notebook uses libraries that have been used in previous notebooks, including spaCy and pandas. Recall that if you run into any issues with loading 'en' to comment that line and uncomment the included line of code (the same way that you may have done in notebook 7)."
   ]
  },
  {
   "cell_type": "markdown",
   "metadata": {},
   "source": [
    "***HOMEWORK***:  \n",
    "Go through the notebook by running each cell, one at a time.  \n",
    "Look for **(TO DO)** for the tasks that you need to perform. Do not edit the code outside of the questions which you are asked to answer unless specifically asked. Once you're done, Sign the notebook (at the end of the notebook), and submit it.  \n",
    "\n",
    "*The notebook will be marked on 30.  \n",
    "Each **(TO DO)** has a number of points associated with it.*\n",
    "***"
   ]
  },
  {
   "cell_type": "code",
   "execution_count": 1,
   "metadata": {},
   "outputs": [],
   "source": [
    "# Before starting we will import every module that we will be using\n",
    "import spacy\n",
    "import pandas as pd"
   ]
  },
  {
   "cell_type": "code",
   "execution_count": 2,
   "metadata": {},
   "outputs": [],
   "source": [
    "# The core spacy object that will be used for tokenization, lemmatization, POS Tagging, ...\n",
    "# Note that this is specifically for the English language and requires the English package to be installed\n",
    "# via pip to work as intended.\n",
    "\n",
    "#sp = spacy.load('en')\n",
    "\n",
    "# If the above causes an error after installing the package described in (2), install the package described\n",
    "# in the Note section within the introduction and run this line of code instead of the above.\n",
    "sp = spacy.load('en_core_web_sm')"
   ]
  },
  {
   "cell_type": "markdown",
   "metadata": {},
   "source": [
    "**PART 1 - Text Coherence for NER Disambiguation**  \n",
    "  \n",
    "For the first part of this notebook we will use the modules from *spaCy* to help to perform NER disambiguation and better the results with the text coherence on documents from the included file on Covid-19 related news articles from CBC news (the same file from notebook 7). We will begin by looking at the NER disambiguation that is performed by spaCy and think of some simple methods to use the coherence of the entities within the text to potentially improve the NER disambiguation.   \n",
    "\n",
    "\n",
    "As with last notebook, the dataset is included with this notebook, but details regarding it can be found [here](https://www.kaggle.com/ryanxjhan/cbc-news-coronavirus-articles-march-26?select=news.csv). The first thing that we will do, as usual, is load the file into a pandas dataframe.  "
   ]
  },
  {
   "cell_type": "code",
   "execution_count": 3,
   "metadata": {},
   "outputs": [
    {
     "data": {
      "text/html": [
       "<div>\n",
       "<style scoped>\n",
       "    .dataframe tbody tr th:only-of-type {\n",
       "        vertical-align: middle;\n",
       "    }\n",
       "\n",
       "    .dataframe tbody tr th {\n",
       "        vertical-align: top;\n",
       "    }\n",
       "\n",
       "    .dataframe thead th {\n",
       "        text-align: right;\n",
       "    }\n",
       "</style>\n",
       "<table border=\"1\" class=\"dataframe\">\n",
       "  <thead>\n",
       "    <tr style=\"text-align: right;\">\n",
       "      <th></th>\n",
       "      <th>Unnamed: 0</th>\n",
       "      <th>authors</th>\n",
       "      <th>title</th>\n",
       "      <th>publish_date</th>\n",
       "      <th>description</th>\n",
       "      <th>text</th>\n",
       "      <th>url</th>\n",
       "    </tr>\n",
       "  </thead>\n",
       "  <tbody>\n",
       "    <tr>\n",
       "      <th>0</th>\n",
       "      <td>0</td>\n",
       "      <td>[]</td>\n",
       "      <td>'More vital now:' Gay-straight alliances go vi...</td>\n",
       "      <td>2020-05-03 1:30</td>\n",
       "      <td>Lily Overacker and Laurell Pallot start each g...</td>\n",
       "      <td>Lily Overacker and Laurell Pallot start each g...</td>\n",
       "      <td>https://www.cbc.ca/news/canada/calgary/gay-str...</td>\n",
       "    </tr>\n",
       "    <tr>\n",
       "      <th>1</th>\n",
       "      <td>1</td>\n",
       "      <td>[]</td>\n",
       "      <td>Scientists aim to 'see' invisible transmission...</td>\n",
       "      <td>2020-05-02 8:00</td>\n",
       "      <td>Some researchers aim to learn more about how t...</td>\n",
       "      <td>This is an excerpt from Second Opinion, a week...</td>\n",
       "      <td>https://www.cbc.ca/news/technology/droplet-tra...</td>\n",
       "    </tr>\n",
       "    <tr>\n",
       "      <th>2</th>\n",
       "      <td>2</td>\n",
       "      <td>['The Canadian Press']</td>\n",
       "      <td>Coronavirus: What's happening in Canada and ar...</td>\n",
       "      <td>2020-05-02 11:28</td>\n",
       "      <td>Canada's chief public health officer struck an...</td>\n",
       "      <td>The latest:  The lives behind the numbers: Wha...</td>\n",
       "      <td>https://www.cbc.ca/news/canada/coronavirus-cov...</td>\n",
       "    </tr>\n",
       "    <tr>\n",
       "      <th>3</th>\n",
       "      <td>3</td>\n",
       "      <td>[]</td>\n",
       "      <td>B.C. announces 26 new coronavirus cases, new c...</td>\n",
       "      <td>2020-05-02 18:45</td>\n",
       "      <td>B.C. provincial health officer Dr. Bonnie Henr...</td>\n",
       "      <td>B.C. provincial health officer Dr. Bonnie Henr...</td>\n",
       "      <td>https://www.cbc.ca/news/canada/british-columbi...</td>\n",
       "    </tr>\n",
       "    <tr>\n",
       "      <th>4</th>\n",
       "      <td>4</td>\n",
       "      <td>[]</td>\n",
       "      <td>B.C. announces 26 new coronavirus cases, new c...</td>\n",
       "      <td>2020-05-02 18:45</td>\n",
       "      <td>B.C. provincial health officer Dr. Bonnie Henr...</td>\n",
       "      <td>B.C. provincial health officer Dr. Bonnie Henr...</td>\n",
       "      <td>https://www.cbc.ca/news/canada/british-columbi...</td>\n",
       "    </tr>\n",
       "    <tr>\n",
       "      <th>5</th>\n",
       "      <td>5</td>\n",
       "      <td>['Senior Writer', 'Chris Arsenault Is A Senior...</td>\n",
       "      <td>Brazil has the most confirmed COVID-19 cases i...</td>\n",
       "      <td>2020-05-02 8:00</td>\n",
       "      <td>From describing coronavirus as a \"little flu,\"...</td>\n",
       "      <td>With infection rates spiralling, some big city...</td>\n",
       "      <td>https://www.cbc.ca/news/world/brazil-has-the-m...</td>\n",
       "    </tr>\n",
       "    <tr>\n",
       "      <th>6</th>\n",
       "      <td>6</td>\n",
       "      <td>['Cbc News']</td>\n",
       "      <td>The latest on the coronavirus outbreak for May 1</td>\n",
       "      <td>2020-05-01 20:43</td>\n",
       "      <td>The latest on the coronavirus outbreak from CB...</td>\n",
       "      <td>Coronavirus Brief (CBC)  Canada is officiall...</td>\n",
       "      <td>https://www.cbc.ca/news/the-latest-on-the-coro...</td>\n",
       "    </tr>\n",
       "    <tr>\n",
       "      <th>7</th>\n",
       "      <td>7</td>\n",
       "      <td>['Cbc News']</td>\n",
       "      <td>Coronavirus: What's happening in Canada and ar...</td>\n",
       "      <td>2020-05-01 11:51</td>\n",
       "      <td>Nova Scotia announced Friday it is immediately...</td>\n",
       "      <td>The latest:  The lives behind the numbers: Wha...</td>\n",
       "      <td>https://www.cbc.ca/news/canada/coronavirus-cov...</td>\n",
       "    </tr>\n",
       "    <tr>\n",
       "      <th>8</th>\n",
       "      <td>8</td>\n",
       "      <td>['Senior Writer', \"Adam Miller Is Senior Digit...</td>\n",
       "      <td>Did the WHO mishandle the global coronavirus p...</td>\n",
       "      <td>2020-04-30 8:00</td>\n",
       "      <td>The World Health Organization has come under f...</td>\n",
       "      <td>The World Health Organization has come under f...</td>\n",
       "      <td>https://www.cbc.ca/news/health/coronavirus-who...</td>\n",
       "    </tr>\n",
       "    <tr>\n",
       "      <th>9</th>\n",
       "      <td>9</td>\n",
       "      <td>['Thomson Reuters']</td>\n",
       "      <td>Armed people in Michigan's legislature protest...</td>\n",
       "      <td>2020-04-30 21:37</td>\n",
       "      <td>Hundreds of protesters, some armed, gathered a...</td>\n",
       "      <td>Hundreds of protesters, some armed, gathered a...</td>\n",
       "      <td>https://www.cbc.ca/news/world/protesters-michi...</td>\n",
       "    </tr>\n",
       "  </tbody>\n",
       "</table>\n",
       "</div>"
      ],
      "text/plain": [
       "  Unnamed: 0                                            authors  \\\n",
       "0          0                                                 []   \n",
       "1          1                                                 []   \n",
       "2          2                             ['The Canadian Press']   \n",
       "3          3                                                 []   \n",
       "4          4                                                 []   \n",
       "5          5  ['Senior Writer', 'Chris Arsenault Is A Senior...   \n",
       "6          6                                       ['Cbc News']   \n",
       "7          7                                       ['Cbc News']   \n",
       "8          8  ['Senior Writer', \"Adam Miller Is Senior Digit...   \n",
       "9          9                                ['Thomson Reuters']   \n",
       "\n",
       "                                               title      publish_date  \\\n",
       "0  'More vital now:' Gay-straight alliances go vi...   2020-05-03 1:30   \n",
       "1  Scientists aim to 'see' invisible transmission...   2020-05-02 8:00   \n",
       "2  Coronavirus: What's happening in Canada and ar...  2020-05-02 11:28   \n",
       "3  B.C. announces 26 new coronavirus cases, new c...  2020-05-02 18:45   \n",
       "4  B.C. announces 26 new coronavirus cases, new c...  2020-05-02 18:45   \n",
       "5  Brazil has the most confirmed COVID-19 cases i...   2020-05-02 8:00   \n",
       "6   The latest on the coronavirus outbreak for May 1  2020-05-01 20:43   \n",
       "7  Coronavirus: What's happening in Canada and ar...  2020-05-01 11:51   \n",
       "8  Did the WHO mishandle the global coronavirus p...   2020-04-30 8:00   \n",
       "9  Armed people in Michigan's legislature protest...  2020-04-30 21:37   \n",
       "\n",
       "                                         description  \\\n",
       "0  Lily Overacker and Laurell Pallot start each g...   \n",
       "1  Some researchers aim to learn more about how t...   \n",
       "2  Canada's chief public health officer struck an...   \n",
       "3  B.C. provincial health officer Dr. Bonnie Henr...   \n",
       "4  B.C. provincial health officer Dr. Bonnie Henr...   \n",
       "5  From describing coronavirus as a \"little flu,\"...   \n",
       "6  The latest on the coronavirus outbreak from CB...   \n",
       "7  Nova Scotia announced Friday it is immediately...   \n",
       "8  The World Health Organization has come under f...   \n",
       "9  Hundreds of protesters, some armed, gathered a...   \n",
       "\n",
       "                                                text  \\\n",
       "0  Lily Overacker and Laurell Pallot start each g...   \n",
       "1  This is an excerpt from Second Opinion, a week...   \n",
       "2  The latest:  The lives behind the numbers: Wha...   \n",
       "3  B.C. provincial health officer Dr. Bonnie Henr...   \n",
       "4  B.C. provincial health officer Dr. Bonnie Henr...   \n",
       "5  With infection rates spiralling, some big city...   \n",
       "6    Coronavirus Brief (CBC)  Canada is officiall...   \n",
       "7  The latest:  The lives behind the numbers: Wha...   \n",
       "8  The World Health Organization has come under f...   \n",
       "9  Hundreds of protesters, some armed, gathered a...   \n",
       "\n",
       "                                                 url  \n",
       "0  https://www.cbc.ca/news/canada/calgary/gay-str...  \n",
       "1  https://www.cbc.ca/news/technology/droplet-tra...  \n",
       "2  https://www.cbc.ca/news/canada/coronavirus-cov...  \n",
       "3  https://www.cbc.ca/news/canada/british-columbi...  \n",
       "4  https://www.cbc.ca/news/canada/british-columbi...  \n",
       "5  https://www.cbc.ca/news/world/brazil-has-the-m...  \n",
       "6  https://www.cbc.ca/news/the-latest-on-the-coro...  \n",
       "7  https://www.cbc.ca/news/canada/coronavirus-cov...  \n",
       "8  https://www.cbc.ca/news/health/coronavirus-who...  \n",
       "9  https://www.cbc.ca/news/world/protesters-michi...  "
      ]
     },
     "execution_count": 3,
     "metadata": {},
     "output_type": "execute_result"
    }
   ],
   "source": [
    "# Read the dataset, show top ten rows\n",
    "df = pd.read_csv(\"news.csv\")\n",
    "df.head(10)"
   ]
  },
  {
   "cell_type": "markdown",
   "metadata": {},
   "source": [
    "In the previous notebook, when we explored how spaCy can perform the various steps of the NLP pipeline, we saw that it was able to perform Named Entity Recognition (NER). Below is the same example that we saw from the last notebook to showcase how we can access spaCy's NER type predictions for tokens in a text."
   ]
  },
  {
   "cell_type": "code",
   "execution_count": 4,
   "metadata": {},
   "outputs": [
    {
     "name": "stdout",
     "output_type": "stream",
     "text": [
      "\"Canada\" is a GPE\n",
      "\"at least two metres\" is a QUANTITY\n"
     ]
    }
   ],
   "source": [
    "# Same example from notebook 7, recall that we loop through the iterator found in the .ents property of a parsed sentence\n",
    "sentence_example = \"Government guidelines in Canada recommend that people stay at least two metres away from others as part of physical distancing measures to curb the spread of COVID-19.\"\n",
    "sentence_example_content = sp(sentence_example)\n",
    "# Loop through all tokens that contain a NER type and print the token along with the corresponding NER type\n",
    "for token in sentence_example_content.ents:\n",
    "    print(\"\\\"\" + token.text + \"\\\" is a \" + token.label_ )"
   ]
  },
  {
   "cell_type": "markdown",
   "metadata": {},
   "source": [
    "**(TO DO) Q1**  \n",
    "Before performing NER with text coherence, you will first explore how spaCy performs NER disambiguation. In the text of ***second document*** (index 1) of our corpus of documents, which words are *PER* (spaCy uses the *PERSON* type, rather than *PER*), *ORG* (Organiztion), and *GPE* (Geopolitical Entity). You must do the following for this question:    \n",
    "a) Print each *PER*, *ORG*, and *GPE* along with its NER type from spaCy.     \n",
    "b) Are all of these NER type predictions correct? If not, provide three examples of incorrect outputs.    \n",
    "c) Do any of the problems with the NER type predictions come from an earlier step in the NLP pipeline that is performed by spaCy? Describe the problem for two examples from the output above.    "
   ]
  },
  {
   "cell_type": "markdown",
   "metadata": {},
   "source": [
    "**(TO DO) Q1 (a) - 2 marks**  \n",
    "Print each *PER*, *ORG*, and *GPE* along with its NER type from spaCy  "
   ]
  },
  {
   "cell_type": "code",
   "execution_count": 8,
   "metadata": {},
   "outputs": [
    {
     "name": "stdout",
     "output_type": "stream",
     "text": [
      "\"the World Health Organization\" is a ORG\n",
      "\"Touches\" is a ORG\n",
      "\"WHO\" is a ORG\n",
      "\"the Public Health Agency\" is a ORG\n",
      "\"W.F. Wells\" is a PERSON\n",
      "\"Harvard School of Public Health\" is a ORG\n",
      "\"Wells\" is a ORG\n",
      "\"Canada\" is a GPE\n",
      "\"Lydia Bourouiba\" is a PERSON\n",
      "\"the Fluid Dynamics of Disease Transmission Laboratory\" is a ORG\n",
      "\"the Massachusetts Institute of Technology\" is a ORG\n",
      "\"Bourouiba\" is a PERSON\n",
      "\"Mark Loeb\" is a PERSON\n",
      "\"Hamilton\" is a PERSON\n",
      "\"McMaster University\" is a ORG\n",
      "\"RNA\" is a GPE\n",
      "\"Wuhan\" is a GPE\n",
      "\"China\" is a GPE\n",
      "\"Nebraska\" is a GPE\n",
      "\"Loeb\" is a PERSON\n",
      "\"Loeb\" is a PERSON\n",
      "\"Canada\" is a GPE\n",
      "\"Gary Moore/CBC\" is a PERSON\n",
      "\"Allison McGeer\" is a PERSON\n",
      "\"Sinai Health\" is a ORG\n",
      "\"Toronto\" is a GPE\n",
      "\"particles \" is a PERSON\n",
      "\"McGeer\" is a ORG\n",
      "\"McGeer\" is a PERSON\n",
      "\"Bourouiba\" is a GPE\n",
      "\"Bourouiba\" is a PERSON\n",
      "\"Bourouiba/MIT/\" is a ORG\n",
      "\"Samira Mubareka\" is a PERSON\n",
      "\"Sunnybrook Hospital\" is a ORG\n",
      "\"Toronto\" is a GPE\n",
      "\"Bourouiba\" is a PERSON\n",
      "\"JAMA Insights\" is a ORG\n",
      "\"McMaster\" is a PERSON\n",
      "\"Loeb\" is a PERSON\n",
      "\"N95\" is a ORG\n",
      "\"U.S.\" is a GPE\n",
      "\"Justin Trudeau\" is a PERSON\n",
      "\"the New England Journal of Medicine\" is a ORG\n",
      "\"the U.S. National Institutes of Health\" is a ORG\n",
      "\"U.S. National Institutes of Health\" is a ORG\n",
      "\"Journal of the Royal Society Interface\" is a ORG\n",
      "\"U.S.\" is a GPE\n",
      "\"Singapore\" is a GPE\n",
      "\"N95\" is a ORG\n",
      "\"Gary S. Settles\" is a PERSON\n",
      "\"Penn State University/Journal of the Royal Society Interface\" is a ORG\n",
      "\"The World Health Organization\" is a ORG\n",
      "\"Los Angeles\" is a GPE\n",
      "\"Italy\" is a GPE\n",
      "\"Austria\" is a GPE\n"
     ]
    }
   ],
   "source": [
    "# Select the second document (index 1)\n",
    "doc = df[\"text\"][1]\n",
    "# TODO\n",
    "doc_content = sp(doc)\n",
    "# Loop through all tokens that contain a NER type and print the token along with the corresponding NER type\n",
    "for token in doc_content.ents:\n",
    "    if token.label_ == 'PERSON' or token.label_ == 'ORG' or token.label_ == 'GPE':\n",
    "        print(\"\\\"\" + token.text + \"\\\" is a \" + token.label_ )"
   ]
  },
  {
   "cell_type": "markdown",
   "metadata": {},
   "source": [
    "**(TO DO) Q1 (b) - 1 mark**   \n",
    "Are all of these NER type predictions correct? If not, provide two examples of incorrect outputs.     "
   ]
  },
  {
   "cell_type": "markdown",
   "metadata": {},
   "source": [
    "TODO \n",
    "\n",
    "\"Hamilton\" is a PERSON is worng. \"Hamilton\" is the name of a city and it should categorize as GPE.\n",
    "\"RNA\" is a GPE is wrong. It is not a location.\n",
    "\"particles \" is a PERSON is wrong.\n",
    "\n",
    "This seems confused prediction here:\n",
    "\"McGeer\" is a ORG\n",
    "\"McGeer\" is a PERSON\n",
    "\"Bourouiba\" is a GPE\n",
    "\"Bourouiba\" is a PERSON \n",
    "\n",
    "\"N95\" is a ORG is wrong."
   ]
  },
  {
   "cell_type": "markdown",
   "metadata": {},
   "source": [
    "**(TO DO) Q1 (c) - 2 marks**   \n",
    "Do any of the problems with the NER type predictions come from an earlier step in the NLP pipeline that is performed by spaCy? Describe the problem for two examples from the output above.    "
   ]
  },
  {
   "cell_type": "markdown",
   "metadata": {},
   "source": [
    "TODO \n",
    "\n",
    "As we see in the NER list above, a lot of the false positives are either very specific terms that the model likely hasn't seen before, as well as capitalised multi-word phrases, which don't usually occur as frequently in regular web text. In order to achieve good NER results, we need to customise the model and train in on our specific data. These false positive cases came from an earlier step in the NLP pipeline that is performed by spaCy.\n",
    "\n",
    "The text that we are analyzing is very specific in terms of both syntax and terminology. The spaCy's default models were trained on general web text, which means they perform well for general-purpose use cases. But the entities a model predicts strongly depend on the data it was trained on, so we'll almost always want to customise the model and post-train it on examples specific to our domain and use case.\n",
    "\n"
   ]
  },
  {
   "cell_type": "markdown",
   "metadata": {},
   "source": [
    "Now that you saw that spaCy NER does not always perform correctly, we will try to use text coherence to modify the NER types that spaCy gave.  In fact spaCy assigns the entity types one sentence at a time.  But when looking a the whole document, and knowing that text is usually coherent, we can do some post-processing to spaCy's NER module and correct some mistakes.  By text being coherent, we mean, for example, that if a person is referred to with a particular name, e.g. *McGeer*, chances are that each time we see *McGeer* in the document, it is the same person.  So it is unlikely that *McGeer* would be once a person and once an organization.  It is not always true, but it is a common assumption.  Therefore, we will explore two different strategies to use text coherence to post-process the output from the spaCy NER module.  \n",
    "\n",
    "The first strategy (*explored in Q2/Q3*) is to find, among all NER types assigned, which is the most frequent one.  For example, the entity *Bourouiba* was assigned 1 time GPE, and 3 times PERSON, so this information can be used to modify the GPE type and change it to PERSON.  \n",
    "\n",
    "The second strategy (explored in Q4) is to try to find a longer form in the text.  Since that longer form should be less ambiguous, we can use it to disambiguate the shorter, more ambiguous forms.  For example, *Lydia Bourouiba* occurs in the text and is assigned PERSON.  We can use that information to assign further occurrences of the short form *Bourouiba* to also be PERSON.   \n",
    "\n",
    "Once we defined these two strategies, they can be combined in different ways. So, in Q5, you are asked to combine both strategies in a post-processing component for spaCy NER module.   Of course, using this text coherence will not work every time, and will unfortunately introduce some errors...  But let's try."
   ]
  },
  {
   "cell_type": "markdown",
   "metadata": {},
   "source": [
    "Through the remainder of this section, we will be working with the seventh document in the corpus (index 6). Below we load the document and explore all entities within the document along with their corresponding NER type."
   ]
  },
  {
   "cell_type": "code",
   "execution_count": 9,
   "metadata": {},
   "outputs": [],
   "source": [
    "# Load the document's text for the seventh document (index 6)\n",
    "doc = df[\"text\"][6]\n",
    "# Parse the text with spaCy\n",
    "doc_sp = sp(doc)"
   ]
  },
  {
   "cell_type": "code",
   "execution_count": 10,
   "metadata": {},
   "outputs": [
    {
     "name": "stdout",
     "output_type": "stream",
     "text": [
      "0: \"Coronavirus Brief\" is a ORG\n",
      "1: \"CBC\" is a ORG\n",
      "2: \"Canada\" is a GPE\n",
      "3: \"C.D. Howe\" is a PERSON\n",
      "4: \"Ontario\" is a GPE\n",
      "5: \"Monday\" is a DATE\n",
      "6: \"Alberta\" is a GPE\n",
      "7: \"first\" is a ORDINAL\n",
      "8: \"Saturday\" is a DATE\n",
      "9: \"Air Canada\" is a ORG\n",
      "10: \"Christmas\" is a DATE\n",
      "11: \"Canadians\" is a NORP\n",
      "12: \"more than $1.2 million\" is a MONEY\n",
      "13: \"England\" is a GPE\n",
      "14: \"Peter Cziborra/Reuters\" is a PERSON\n",
      "15: \"months\" is a DATE\n",
      "16: \"CBC\" is a ORG\n",
      "17: \"Andre Mayer\" is a PERSON\n",
      "18: \"Canada\" is a GPE\n",
      "19: \"19th-century\" is a DATE\n",
      "20: \"2013\" is a DATE\n",
      "21: \"Calgary\" is a GPE\n",
      "22: \"John Brown\" is a PERSON\n",
      "23: \"the University of Calgary\" is a ORG\n",
      "24: \"two-metre\" is a TIME\n",
      "25: \"Last week\" is a DATE\n",
      "26: \"Italian\" is a NORP\n",
      "27: \"Milan\" is a GPE\n",
      "28: \"35 kilometres\" is a QUANTITY\n",
      "29: \"Berlin\" is a GPE\n",
      "30: \"Budapest\" is a GPE\n",
      "31: \"Mexico City\" is a GPE\n",
      "32: \"Ahsan Habib\" is a PERSON\n",
      "33: \"Dalhousie University\" is a ORG\n",
      "34: \"U.S.\" is a GPE\n",
      "35: \"Atlanta\" is a GPE\n",
      "36: \"Chicago\" is a GPE\n",
      "37: \"Denver\" is a GPE\n",
      "38: \"Habib\" is a PERSON\n",
      "39: \"Brown\" is a PERSON\n",
      "40: \"Calgary\" is a GPE\n",
      "41: \"Housebrand\" is a ORG\n",
      "42: \"Zoom\" is a PERSON\n",
      "43: \"The National The At Issue\" is a WORK_OF_ART\n",
      "44: \"Quebec\" is a GPE\n",
      "45: \"Conservative\" is a NORP\n",
      "46: \"BRIEF Canada\" is a ORG\n",
      "47: \"C.D. Howe\" is a PERSON\n",
      "48: \"Canada\" is a GPE\n",
      "49: \"the C.D. Howe Institute's Business Cycle Council\" is a ORG\n",
      "50: \"today\" is a DATE\n",
      "51: \"Canada\" is a GPE\n",
      "52: \"February\" is a DATE\n",
      "53: \"one\" is a CARDINAL\n",
      "54: \"two\" is a CARDINAL\n",
      "55: \"three-month\" is a DATE\n",
      "56: \"two quarters\" is a DATE\n",
      "57: \"less than two months old\" is a DATE\n",
      "58: \"Canada\" is a GPE\n",
      "59: \"first\" is a ORDINAL\n",
      "60: \"Canada\" is a GPE\n",
      "61: \"2008\" is a DATE\n",
      "62: \"March\" is a DATE\n",
      "63: \"April\" is a DATE\n",
      "64: \"the entire month\" is a DATE\n",
      "65: \"Canada\" is a GPE\n",
      "66: \"Ontario\" is a GPE\n",
      "67: \"Monday\" is a DATE\n",
      "68: \"Alberta\" is a GPE\n",
      "69: \"Saturday\" is a DATE\n",
      "70: \"Ontario\" is a GPE\n",
      "71: \"today\" is a DATE\n",
      "72: \"Monday\" is a DATE\n",
      "73: \"Today\" is a DATE\n",
      "74: \"Doug Ford\" is a PERSON\n",
      "75: \"Alberta\" is a GPE\n",
      "76: \"Jason Kenney\" is a PERSON\n",
      "77: \"first\" is a ORDINAL\n",
      "78: \"Alberta\" is a GPE\n",
      "79: \"Saturday\" is a DATE\n",
      "80: \"mid-May\" is a DATE\n",
      "81: \"Kenney\" is a ORG\n",
      "82: \"Thursday\" is a DATE\n",
      "83: \"Monday\" is a DATE\n",
      "84: \"the end of the academic year\" is a DATE\n",
      "85: \"Kenney\" is a PERSON\n",
      "86: \"summer\" is a DATE\n",
      "87: \"Canada\" is a GPE\n",
      "88: \"Air Canada\" is a ORG\n",
      "89: \"Christmas\" is a DATE\n",
      "90: \"Air Canada\" is a ORG\n",
      "91: \"winter\" is a DATE\n",
      "92: \"Canadians\" is a NORP\n",
      "93: \"Tim Strauss\" is a PERSON\n",
      "94: \"Canadian\" is a NORP\n",
      "95: \"Air Canada\" is a ORG\n",
      "96: \"more than 90\" is a CARDINAL\n",
      "97: \"Canadian\" is a NORP\n",
      "98: \"today\" is a DATE\n",
      "99: \"North American\" is a NORP\n",
      "100: \"Air Canada\" is a ORG\n",
      "101: \"American Airlines\" is a ORG\n",
      "102: \"Transport Canada\" is a ORG\n",
      "103: \"two metres\" is a QUANTITY\n",
      "104: \"Air Canada\" is a ORG\n",
      "105: \"Christmas\" is a DATE\n",
      "106: \"Helane Becker\" is a PERSON\n",
      "107: \"first\" is a ORDINAL\n",
      "108: \"Canada\" is a GPE\n",
      "109: \"CBC News\" is a ORG\n",
      "110: \"covid@cbc.ca\" is a CARDINAL\n",
      "111: \"U.S.\" is a GPE\n",
      "112: \"U.S.\" is a GPE\n",
      "113: \"Anthony Fauci\" is a PERSON\n",
      "114: \"Canada\" is a GPE\n",
      "115: \"Health Canada\" is a ORG\n",
      "116: \"Health Canada\" is a ORG\n",
      "117: \"Gilead\" is a ORG\n",
      "118: \"CBC News\" is a ORG\n",
      "119: \"Gilead\" is a ORG\n",
      "120: \"Canada\" is a GPE\n",
      "121: \"Alberta\" is a GPE\n",
      "122: \"daily\" is a DATE\n",
      "123: \"Everly-Ann Toma\" is a FAC\n",
      "124: \"Grace Horsfall Couldwell\" is a ORG\n",
      "125: \"Paint\" is a ORG\n",
      "126: \"MJ\" is a PERSON\n",
      "127: \"Facebook\" is a ORG\n",
      "128: \"Alberta\" is a GPE\n",
      "129: \"MJ Stead\" is a PERSON\n",
      "130: \"Lori Toma\" is a PERSON\n",
      "131: \"Nancy Horsfall Couldwell\" is a PERSON\n",
      "132: \"Alta\" is a WORK_OF_ART\n",
      "133: \"MJ Stead\" is a PERSON\n",
      "134: \"Facebook\" is a ORG\n",
      "135: \"Paint\" is a ORG\n",
      "136: \"MJ\" is a ORG\n",
      "137: \"Facebook Live\" is a WORK_OF_ART\n",
      "138: \"20\" is a CARDINAL\n",
      "139: \"30\" is a CARDINAL\n",
      "140: \"more than 1,500\" is a CARDINAL\n",
      "141: \"more than one\" is a CARDINAL\n",
      "142: \"Two years ago\" is a DATE\n",
      "143: \"Stead\" is a PERSON\n",
      "144: \"100 days\" is a DATE\n",
      "145: \"Canada\" is a GPE\n",
      "146: \"covid@cbc.ca\" is a CARDINAL\n",
      "147: \"CBC News\" is a ORG\n",
      "148: \"daily\" is a DATE\n",
      "149: \"CBC News Network\" is a ORG\n",
      "150: \"CBC News Network\" is a ORG\n",
      "151: \"CBC\" is a ORG\n",
      "152: \"CBC News Network\" is a ORG\n",
      "153: \"CBC News\" is a ORG\n"
     ]
    }
   ],
   "source": [
    "# Display all entities from the text along with their index in the .ents iterator and the\n",
    "# corresponding NER type\n",
    "for i, token in enumerate(doc_sp.ents):\n",
    "    print(str(i) + \": \\\"\" + token.text + \"\\\" is a \" + token.label_ )"
   ]
  },
  {
   "cell_type": "markdown",
   "metadata": {},
   "source": [
    "**(TO DO) Q2 - 3 marks**  \n",
    "As you can see in the results, sometimes the same entity was assigned different entity types (e.g. in document for Q1 *McGeer* was one time ORG, one time PERSON) since the NER algorithm looks sentence by sentence.  In the following function, the purpose will be to find all the possible entity types assigned to a single entity.\n",
    "\n",
    "Complete the definition of the *find_entity_types* function below. This function accepts as input a specific spaCy entity defined by the *entity* parameter (from the *.ents* iterable of entities) and a list of all spaCy entities defined by the *entities* parameter.     \n",
    "\n",
    "The function must find all entities of the same name as *entity* from *entities* (the same surface form). For each match between the entities, add the NER type of the entity from the list to the dictionary *type_counts* and track the number of times each NER type appears.     \n",
    "\n",
    "Ex: type_counts\\[NER type\\] = total number of times the count appears"
   ]
  },
  {
   "cell_type": "code",
   "execution_count": 69,
   "metadata": {},
   "outputs": [],
   "source": [
    "def find_entity_types(entity, entities):\n",
    "    '''\n",
    "    Given a specific entity and a list of entities, finds all entities from the list that match the specified\n",
    "    entity, but are of a different type.\n",
    "    \n",
    "    Returns the different NER types that have been classified for an entity and the count per NER type\n",
    "    as a dictionary with the keys as the NER type and the value as the count\n",
    "    '''\n",
    "    type_counts = { }\n",
    "    for i, token in enumerate(entities):\n",
    "        rep_idx = 0\n",
    "        if token.text == str(entity):\n",
    "            rep_idx += 1\n",
    "            type_counts[token.label_] = int(rep_idx)\n",
    "    return type_counts"
   ]
  },
  {
   "cell_type": "code",
   "execution_count": 88,
   "metadata": {},
   "outputs": [
    {
     "name": "stdout",
     "output_type": "stream",
     "text": [
      "All possible NER types for \"Kenney\" are {'ORG': 1, 'PERSON': 1}\n"
     ]
    }
   ],
   "source": [
    "# Test the above to find the result when checking for the types of the entity 'Kenney' \n",
    "# from the document loaded above\n",
    "print(\"All possible NER types for \\\"\" + doc_sp.ents[85].text + \"\\\" are \" + str(find_entity_types(doc_sp.ents[85], doc_sp.ents)))"
   ]
  },
  {
   "cell_type": "markdown",
   "metadata": {},
   "source": [
    "**(TO DO) Q3 - 2 marks**  \n",
    "In the previous method, *find_entity_types*, we found all the possible entity types for a single entity.  Now, we want to use these to find the most common type.  If we look again at the results for Q1, in the case of *McGeer*, it's a tie.  But for *Bourouiba*, there is one GPE type, and 3 PERSON type, so the most common would be PERSON.   \n",
    "\n",
    "Complete the definition of the *most_common_type* function below. This function accepts as input a specific spaCy entity defined by the *entity* parameter (from the *.ents* iterable of entities) and a list of all spaCy entities defined by the *entities* parameter.        \n",
    "\n",
    "Note: You can handle ties as you please."
   ]
  },
  {
   "cell_type": "code",
   "execution_count": 95,
   "metadata": {},
   "outputs": [],
   "source": [
    "def most_common_type(entity, entities):\n",
    "    '''\n",
    "    Given a specific entity and a list of entities, find the most similar entities and assign the\n",
    "    NER type to entity based on the most common NER type assigned to entities of the same name (if there\n",
    "    is a tie, you decide how to handle this).\n",
    "    \n",
    "    Returns the most common NER type based on similar entities\n",
    "    '''\n",
    "    # TODO\n",
    "    type_dic = find_entity_types(entity, entities)\n",
    "    max_type = max(type_dic, key=type_dic.get)\n",
    "    return max_type"
   ]
  },
  {
   "cell_type": "code",
   "execution_count": 96,
   "metadata": {},
   "outputs": [
    {
     "name": "stdout",
     "output_type": "stream",
     "text": [
      "The most common NER type to \"Kenney\" is ORG\n"
     ]
    }
   ],
   "source": [
    "# Test the above to find the result when checking for the types of the entity 'Kenney' \n",
    "# from the document loaded above\n",
    "print(\"The most common NER type to \\\"\" + doc_sp.ents[85].text + \"\\\" is \" + most_common_type(doc_sp.ents[85], doc_sp.ents))"
   ]
  },
  {
   "cell_type": "markdown",
   "metadata": {},
   "source": [
    "**(TO DO) Q4 - 2 marks**  \n",
    "Now we will work with a slightly more sophisticated method. We will once again work with the same *entity* and *entities* parameters, but this time you will need to assign *entity* the NER type of another entity in the *entities* iterator.    \n",
    "\n",
    "Specifically, you must look through *entities* to find a normalized form of *entity*. In this scenario, any entity that contains *entity* as a substring will be considered a valid selection for the normalized form (where the selected entity does not have the same name as *entity*). If a normalized form is found, return the NER type of that entity, the name of that entity, and the entity itself.    \n",
    "\n",
    "Ex: *CBC News Network* is the normalized form of *CBC*. Thus, if this entity is found, return the NER type from the entity (*ORG*) and the name of the entity (*CBC News Network*)."
   ]
  },
  {
   "cell_type": "code",
   "execution_count": 344,
   "metadata": {},
   "outputs": [],
   "source": [
    "def assign_normalized_form(entity, entities):\n",
    "    '''\n",
    "    Given an entity and a list of entities, search the list of entities for any token that\n",
    "    is does not have the exact same text as entity and assign entity that token's NER type\n",
    "    if entity is a substring of that token.\n",
    "    \n",
    "    Returns the empty string if no normalized forms are found and the NER type of the normalized form if it is found.\n",
    "    Also returns the name of the entity found, if any (along with the entity).\n",
    "    '''\n",
    "    # MAY BE DONE SO THAT THE LAST GETS ADDED INSTEAD, THIS IS FINE.\n",
    "    # Recall to return the three requested components (NER type, the text, and the actual entity)\n",
    "    entity_type = most_common_type(entity, entities)\n",
    "    for token in entities:\n",
    "        if str(entity) in str(token.text):\n",
    "            token.label_ == entity_type\n",
    "            return token.label_, token.text, entity"
   ]
  },
  {
   "cell_type": "code",
   "execution_count": 345,
   "metadata": {},
   "outputs": [
    {
     "name": "stdout",
     "output_type": "stream",
     "text": [
      "('PERSON', 'Jason Kenney', Kenney)\n",
      "('ORG', 'CBC News', CBC News)\n"
     ]
    }
   ],
   "source": [
    "# Test the above to find the result when checking for the types of the entity 'Kenney' \n",
    "# from the document loaded above\n",
    "print(assign_normalized_form(doc_sp.ents[85], doc_sp.ents))\n",
    "# Test the above to find the result when checking for the types of the entity 'CBC News' \n",
    "# from the document loaded above\n",
    "print(assign_normalized_form(doc_sp.ents[153], doc_sp.ents))"
   ]
  },
  {
   "cell_type": "markdown",
   "metadata": {},
   "source": [
    "**(TO DO) Q5**  \n",
    "Now that you have defined several algorithms to perform NER disambiguation with text coherence, you will test your algorithms and use them to define a slightly more robust method of NER disambiguation by combining the techniques performed. You will then explore whether these techniques always help with NER disambiguation.       \n",
    "\n",
    "a) Revisit the document that was used in Q1 (index 1) and, for each entity, retrieve the normalized form of the entity (if any) and display only the normalized forms along with their NER types in the following format (only if there is a normalized form returned):    \n",
    "&emsp;*Original_entity refers to Normalized_entity, and is a NER_Type_of_Normalized_Form*    \n",
    "b) Define a more robust algorithm that combines the algorithms designed in the past few questions. This algorithm should accept a specific entity and list of entities as input, find the specific entity's normalized form (if any), and return an NER type for the normalized form based on the most common NER type for that entity. If no normalized form is found, the algorithm should continue by using the specific entity. You should also return the name of the normalized form (or of the original entity if there is no normalized form).       \n",
    "c) For the seventh document (index 6), run the algorithm defined in b) for each entity, printing the following for each entity:    \n",
    "&emsp;*Original_entity refers to Normalized_entity (if none, same as the original), and is a Most_common_NER_type_of_normalized_form*    \n",
    "d) Do any of the results found from performing NER disambiguation with text coherence Q5(c) seem problematic? Give an example of a problem that is occurring with our approaches and explain why this issue occurs."
   ]
  },
  {
   "cell_type": "markdown",
   "metadata": {},
   "source": [
    "**(TO DO) Q5 (a) - 1 mark**     \n",
    "a) Revisit the document that was used in Q1 (index 1) and, for each entity, retrieve the normalized form of the entity (if any) and display only the normalized forms along with their NER types in the following format (only if there is a normalized form returned):    \n",
    "&emsp;*Original_entity refers to Normalized_entity, and is a NER_Type_of_Normalized_Form*    \n",
    "For example \"Bourouiba refers to Lydia Bourouiba, and is a PERSON\" would be printed for one entity."
   ]
  },
  {
   "cell_type": "code",
   "execution_count": 346,
   "metadata": {},
   "outputs": [],
   "source": [
    "# Select document 2\n",
    "doc = df[\"text\"][1]\n",
    "sp_doc_test = sp(doc)"
   ]
  },
  {
   "cell_type": "code",
   "execution_count": 389,
   "metadata": {},
   "outputs": [
    {
     "name": "stdout",
     "output_type": "stream",
     "text": [
      "two refers to two metres ,and is a QUANTITY\n",
      "Wells refers to W.F. Wells ,and is a PERSON\n",
      "Bourouiba refers to Lydia Bourouiba ,and is a PERSON\n",
      "Loeb refers to Mark Loeb ,and is a PERSON\n",
      "Loeb refers to Mark Loeb ,and is a PERSON\n",
      "McGeer refers to Allison McGeer ,and is a PERSON\n",
      "McGeer refers to Allison McGeer ,and is a PERSON\n",
      "2 refers to 2 metres ,and is a QUANTITY\n",
      "Bourouiba refers to Lydia Bourouiba ,and is a PERSON\n",
      "Bourouiba refers to Lydia Bourouiba ,and is a PERSON\n",
      "Bourouiba refers to Lydia Bourouiba ,and is a PERSON\n",
      "two refers to two metres ,and is a QUANTITY\n",
      "two refers to two metres ,and is a QUANTITY\n",
      "McMaster refers to McMaster University ,and is a ORG\n",
      "Loeb refers to Mark Loeb ,and is a PERSON\n",
      "U.S. National Institutes of Health refers to the U.S. National Institutes of Health ,and is a ORG\n"
     ]
    }
   ],
   "source": [
    "# TODO: Loop through and print the assigned phrase with the appropriate text\n",
    "# Example of the print statement structure (from document 1): Bourouiba refers to Lydia Bourouiba, and is a PERSON\n",
    "for i, token in enumerate(sp_doc_test.ents):\n",
    "    output = assign_normalized_form(sp_doc_test.ents[i], sp_doc_test.ents)\n",
    "    if str(output[2]) != str(output[1]):\n",
    "        print(output[2],'refers to',output[1],',and is a',output[0])"
   ]
  },
  {
   "cell_type": "markdown",
   "metadata": {},
   "source": [
    "**(TO DO) Q5 (b) - 2 marks**     \n",
    "b) Define a more robust algorithm that combines the algorithms designed in the past few questions. This algorithm should accept a specific entity and list of entities as input, find the specific entity's normalized form (if any), and return an NER type for the normalized form based on the most common NER type for that entity. If no normalized form is found, the algorithm should continue by using the specific entity. You should also return the name of the normalized form (or of the original entity if there is no normalized form).   "
   ]
  },
  {
   "cell_type": "code",
   "execution_count": 390,
   "metadata": {},
   "outputs": [],
   "source": [
    "def normalized_most_common_type(entity, entities):\n",
    "    '''\n",
    "    Determine the normalized form of an entity (if any; if none just use the entity) and\n",
    "    return the most frequent NER type for that normalized form from a list of entities.\n",
    "    '''\n",
    "    # TODO (Recall to return the name and the NER type that is found)\n",
    "    output = assign_normalized_form(entity, entities)\n",
    "    if str(output[2]) != str(output[1]):    # when there is a specific entity's normalized form\n",
    "        return output\n",
    "    elif str(output[2]) == str(output[1]):  # when there is NOT any specific entity's normalized form\n",
    "        return token.text,\" \",token.label_        "
   ]
  },
  {
   "cell_type": "markdown",
   "metadata": {},
   "source": [
    "**(TO DO) Q5 (c) - 1 mark**     \n",
    "c) For the seventh document (index 6), run the algorithm defined in b) for each entity, printing the following for each entity:    \n",
    "&emsp;*Original_entity refers to Normalized_entity (if none, same as the original), and is a Most_common_NER_type_of_normalized_form*    "
   ]
  },
  {
   "cell_type": "code",
   "execution_count": 391,
   "metadata": {},
   "outputs": [],
   "source": [
    "# Load the document's text\n",
    "doc = df[\"text\"][6]\n",
    "sp_doc_test_new = sp(doc)"
   ]
  },
  {
   "cell_type": "code",
   "execution_count": 392,
   "metadata": {},
   "outputs": [
    {
     "name": "stdout",
     "output_type": "stream",
     "text": [
      "Coronavirus Brief refers to Coronavirus Brief ,and is ORG\n",
      "CBC refers to CBC ,and is ORG\n",
      "Canada refers to Canada ,and is GPE\n",
      "C.D. Howe refers to C.D. Howe ,and is PERSON\n",
      "Ontario refers to Ontario ,and is GPE\n",
      "Monday refers to Monday ,and is DATE\n",
      "Alberta refers to Alberta ,and is GPE\n",
      "first refers to first ,and is ORDINAL\n",
      "Saturday refers to Saturday ,and is DATE\n",
      "Air Canada refers to Air Canada ,and is ORG\n",
      "Christmas refers to Christmas ,and is DATE\n",
      "Canadians refers to Canadians ,and is NORP\n",
      "more than $1.2 million refers to more than $1.2 million ,and is MONEY\n",
      "England refers to England ,and is GPE\n",
      "Peter Cziborra/Reuters refers to Peter Cziborra/Reuters ,and is PERSON\n",
      "months refers to months ,and is DATE\n",
      "CBC refers to CBC ,and is ORG\n",
      "Andre Mayer refers to Andre Mayer ,and is PERSON\n",
      "Canada refers to Canada ,and is GPE\n",
      "19th-century refers to 19th-century ,and is DATE\n",
      "2013 refers to 2013 ,and is DATE\n",
      "Calgary refers to Calgary ,and is GPE\n",
      "John Brown refers to John Brown ,and is PERSON\n",
      "the University of Calgary refers to the University of Calgary ,and is ORG\n",
      "two-metre refers to two-metre ,and is TIME\n",
      "Last week refers to Last week ,and is DATE\n",
      "Italian refers to Italian ,and is NORP\n",
      "Milan refers to Milan ,and is GPE\n",
      "35 kilometres refers to 35 kilometres ,and is QUANTITY\n",
      "Berlin refers to Berlin ,and is GPE\n",
      "Budapest refers to Budapest ,and is GPE\n",
      "Mexico City refers to Mexico City ,and is GPE\n",
      "Ahsan Habib refers to Ahsan Habib ,and is PERSON\n",
      "Dalhousie University refers to Dalhousie University ,and is ORG\n",
      "U.S. refers to U.S. ,and is GPE\n",
      "Atlanta refers to Atlanta ,and is GPE\n",
      "Chicago refers to Chicago ,and is GPE\n",
      "Denver refers to Denver ,and is GPE\n",
      "Habib refers to Ahsan Habib ,and is PERSON\n",
      "Brown refers to John Brown ,and is PERSON\n",
      "Calgary refers to Calgary ,and is GPE\n",
      "Housebrand refers to Housebrand ,and is ORG\n",
      "Zoom refers to Zoom ,and is PERSON\n",
      "The National The At Issue refers to The National The At Issue ,and is WORK_OF_ART\n",
      "Quebec refers to Quebec ,and is GPE\n",
      "Conservative refers to Conservative ,and is NORP\n",
      "BRIEF Canada refers to BRIEF Canada ,and is ORG\n",
      "C.D. Howe refers to C.D. Howe ,and is PERSON\n",
      "Canada refers to Canada ,and is GPE\n",
      "the C.D. Howe Institute's Business Cycle Council refers to the C.D. Howe Institute's Business Cycle Council ,and is ORG\n",
      "today refers to today ,and is DATE\n",
      "Canada refers to Canada ,and is GPE\n",
      "February refers to February ,and is DATE\n",
      "one refers to one ,and is CARDINAL\n",
      "two refers to two-metre ,and is TIME\n",
      "three-month refers to three-month ,and is DATE\n",
      "two quarters refers to two quarters ,and is DATE\n",
      "less than two months old refers to less than two months old ,and is DATE\n",
      "Canada refers to Canada ,and is GPE\n",
      "first refers to first ,and is ORDINAL\n",
      "Canada refers to Canada ,and is GPE\n",
      "2008 refers to 2008 ,and is DATE\n",
      "March refers to March ,and is DATE\n",
      "April refers to April ,and is DATE\n",
      "the entire month refers to the entire month ,and is DATE\n",
      "Canada refers to Canada ,and is GPE\n",
      "Ontario refers to Ontario ,and is GPE\n",
      "Monday refers to Monday ,and is DATE\n",
      "Alberta refers to Alberta ,and is GPE\n",
      "Saturday refers to Saturday ,and is DATE\n",
      "Ontario refers to Ontario ,and is GPE\n",
      "today refers to today ,and is DATE\n",
      "Monday refers to Monday ,and is DATE\n",
      "Today refers to Today ,and is DATE\n",
      "Doug Ford refers to Doug Ford ,and is PERSON\n",
      "Alberta refers to Alberta ,and is GPE\n",
      "Jason Kenney refers to Jason Kenney ,and is PERSON\n",
      "first refers to first ,and is ORDINAL\n",
      "Alberta refers to Alberta ,and is GPE\n",
      "Saturday refers to Saturday ,and is DATE\n",
      "mid-May refers to mid-May ,and is DATE\n",
      "Kenney refers to Jason Kenney ,and is PERSON\n",
      "Thursday refers to Thursday ,and is DATE\n",
      "Monday refers to Monday ,and is DATE\n",
      "the end of the academic year refers to the end of the academic year ,and is DATE\n",
      "Kenney refers to Jason Kenney ,and is PERSON\n",
      "summer refers to summer ,and is DATE\n",
      "Canada refers to Canada ,and is GPE\n",
      "Air Canada refers to Air Canada ,and is ORG\n",
      "Christmas refers to Christmas ,and is DATE\n",
      "Air Canada refers to Air Canada ,and is ORG\n",
      "winter refers to winter ,and is DATE\n",
      "Canadians refers to Canadians ,and is NORP\n",
      "Tim Strauss refers to Tim Strauss ,and is PERSON\n",
      "Canadian refers to Canadians ,and is NORP\n",
      "Air Canada refers to Air Canada ,and is ORG\n",
      "more than 90 refers to more than 90 ,and is CARDINAL\n",
      "Canadian refers to Canadians ,and is NORP\n",
      "today refers to today ,and is DATE\n",
      "North American refers to North American ,and is NORP\n",
      "Air Canada refers to Air Canada ,and is ORG\n",
      "American Airlines refers to American Airlines ,and is ORG\n",
      "Transport Canada refers to Transport Canada ,and is ORG\n",
      "two metres refers to two metres ,and is QUANTITY\n",
      "Air Canada refers to Air Canada ,and is ORG\n",
      "Christmas refers to Christmas ,and is DATE\n",
      "Helane Becker refers to Helane Becker ,and is PERSON\n",
      "first refers to first ,and is ORDINAL\n",
      "Canada refers to Canada ,and is GPE\n",
      "CBC News refers to CBC News ,and is ORG\n",
      "covid@cbc.ca refers to covid@cbc.ca ,and is CARDINAL\n",
      "U.S. refers to U.S. ,and is GPE\n",
      "U.S. refers to U.S. ,and is GPE\n",
      "Anthony Fauci refers to Anthony Fauci ,and is PERSON\n",
      "Canada refers to Canada ,and is GPE\n",
      "Health Canada refers to Health Canada ,and is ORG\n",
      "Health Canada refers to Health Canada ,and is ORG\n",
      "Gilead refers to Gilead ,and is ORG\n",
      "CBC News refers to CBC News ,and is ORG\n",
      "Gilead refers to Gilead ,and is ORG\n",
      "Canada refers to Canada ,and is GPE\n",
      "Alberta refers to Alberta ,and is GPE\n",
      "daily refers to daily ,and is DATE\n",
      "Everly-Ann Toma refers to Everly-Ann Toma ,and is FAC\n",
      "Grace Horsfall Couldwell refers to Grace Horsfall Couldwell ,and is ORG\n",
      "Paint refers to Paint ,and is ORG\n",
      "MJ refers to MJ ,and is PERSON\n",
      "Facebook refers to Facebook ,and is ORG\n",
      "Alberta refers to Alberta ,and is GPE\n",
      "MJ Stead refers to MJ Stead ,and is PERSON\n",
      "Lori Toma refers to Lori Toma ,and is PERSON\n",
      "Nancy Horsfall Couldwell refers to Nancy Horsfall Couldwell ,and is PERSON\n",
      "Alta refers to Alta ,and is WORK_OF_ART\n",
      "MJ Stead refers to MJ Stead ,and is PERSON\n",
      "Facebook refers to Facebook ,and is ORG\n",
      "Paint refers to Paint ,and is ORG\n",
      "MJ refers to MJ ,and is ORG\n",
      "Facebook Live refers to Facebook Live ,and is WORK_OF_ART\n",
      "20 refers to 2013 ,and is DATE\n",
      "30 refers to 30 ,and is CARDINAL\n",
      "more than 1,500 refers to more than 1,500 ,and is CARDINAL\n",
      "more than one refers to more than one ,and is CARDINAL\n",
      "Two years ago refers to Two years ago ,and is DATE\n",
      "Stead refers to MJ Stead ,and is PERSON\n",
      "100 days refers to 100 days ,and is DATE\n",
      "Canada refers to Canada ,and is GPE\n",
      "covid@cbc.ca refers to covid@cbc.ca ,and is CARDINAL\n",
      "CBC News refers to CBC News ,and is ORG\n",
      "daily refers to daily ,and is DATE\n",
      "CBC News Network refers to CBC News Network ,and is ORG\n",
      "CBC News Network refers to CBC News Network ,and is ORG\n",
      "CBC refers to CBC ,and is ORG\n",
      "CBC News Network refers to CBC News Network ,and is ORG\n",
      "CBC News refers to CBC News ,and is ORG\n"
     ]
    }
   ],
   "source": [
    "# TODO: Loop through and print the assigned phrase with the appropriate text     \n",
    "for i, token in enumerate(sp_doc_test_new.ents):\n",
    "    output = normalized_most_common_type(sp_doc_test_new.ents[i], sp_doc_test_new.ents)\n",
    "    if output[1] !=\" \":\n",
    "        print(output[2],'refers to',output[1],',and is',output[0])\n",
    "    else:\n",
    "        print(output[0],'refers to',output[0],',and is',output[2])  "
   ]
  },
  {
   "cell_type": "markdown",
   "metadata": {},
   "source": [
    "**(TO DO) Q5 (d) - 2 marks**     \n",
    "d) Do any of the results found from performing NER disambiguation with text coherence Q5(c) seem problematic? Give an example of a problem that is occurring with our approaches and explain why this issue occurs."
   ]
  },
  {
   "cell_type": "markdown",
   "metadata": {},
   "source": [
    "TODO \n",
    "two refers to two-metre ,and is TIME\n",
    "two quarters refers to two quarters ,and is DATE\n",
    "less than two months old refers to less than two months old ,and is DATE\n",
    "two metres refers to two metres ,and is QUANTITY\n",
    "\n",
    "In the examples above there are an ambiguities between type TIME, DATE and QUANTITY. We need more examples with \"two\" and better training. "
   ]
  },
  {
   "cell_type": "markdown",
   "metadata": {},
   "source": [
    "**PART 2 - Entity Linking / Text enhancement**  \n",
    "\n",
    "For the second part of this notebook, we will be exploring how we can enhance the text of documents. In this scenario, we will be enhancing the text by performing entity linking. This means that we will attempt several methods of linking the entities that are detected by spaCy's NER to an active webpage that a reader can click on to obtain more information regarding the entity. Many websites, such as Wikipedia, perform Entity Linking to allow for more context to be obtained when reading a document.     \n",
    "\n",
    "Before going straight into an example through code, below is an example of how a text with no entity linking compares to a text with entity linking:    \n",
    "\n",
    "No entity linking:    \n",
    "During the pandemic, U.S. cities such as Atlanta, Chicago and Denver have made several adjustments to their transit systems.      \n",
    "\n",
    "With entity linking:    \n",
    "During the pandemic, U.S. cities such as <a href=\"http://en.wikipedia.org/wiki/Atlanta\">Atlanta</a>, <a href=\"http://en.wikipedia.org/wiki/Chicago\">Chicago</a> and <a href=\"http://en.wikipedia.org/wiki/Denver\">Denver</a> have made several adjustments to their transit systems."
   ]
  },
  {
   "cell_type": "markdown",
   "metadata": {},
   "source": [
    "Since you will be designing several methods of performing simple entity linking, below is an example that showcases how we can manually perform entity linking without any resources. This will showcase how it can be performed so that you will be able to use and create resources to create simple entity linking algorithms yourself."
   ]
  },
  {
   "cell_type": "code",
   "execution_count": 397,
   "metadata": {},
   "outputs": [],
   "source": [
    "sentence_example = \"During the pandemic, U.S. cities such as Atlanta, Chicago and Denver have made several adjustments to their transit systems\"\n",
    "# Parse the example sentence\n",
    "text_sp = sp(sentence_example)\n",
    "# This will store the enhanced version of the text\n",
    "enhanced_text = sentence_example\n",
    "# Loop through the entities that spaCy has found and replace them as needed to be in expanded form \n",
    "for token in text_sp.ents:\n",
    "    if token.text == \"Atlanta\":\n",
    "        enhanced_text = enhanced_text.replace(token.text, \"<a href=\\\"http://en.wikipedia.org/wiki/Atlanta\\\">Atlanta</a>\")\n",
    "    elif token.text == \"Chicago\":\n",
    "        enhanced_text = enhanced_text.replace(token.text, \"<a href=\\\"http://en.wikipedia.org/wiki/Chicago\\\">Chicago</a>\")\n",
    "    elif token.text == \"Denver\":\n",
    "        enhanced_text = enhanced_text.replace(token.text, \"<a href=\\\"http://en.wikipedia.org/wiki/Denver\\\">Denver</a>\")\n",
    "    \n",
    "# Write the result as an HTML file (open to view the enhanced text!)\n",
    "with open(\"enhanced_example.html\", \"w\", encoding=\"utf-8\") as f:\n",
    "    f.write(enhanced_text)\n",
    "    f.close()"
   ]
  },
  {
   "cell_type": "markdown",
   "metadata": {},
   "source": [
    "By opening the *enhanced_example.html* file that is now in the same directory as this notebook, you will be able to see\n",
    "that we linked the entities in the text.  \n",
    "\n",
    "That said, the process above is quite poor. It required manually stating which entities to work with and which URL to link to it. Thus, you will be answering questions for the rest of this section where you use and/or create resources that were manually put together to link entities in more general/robust methods. There are many different string matching techniques that can be used to help with entity linking, but we will stick with basic approaches for this notebook.   \n",
    "\n",
    "In the next question you will begin working with external resources. Thus, below we load the *US_Cities.csv* file to use to enhance the text with US cities in the following question. Note that each file contains two columns; *Text* and *URL*. *Text* refers to an entity name and *URL* refers to a corresponding *URL* that provides more information regarding the *Text*. The below example showcases how these files should be loaded and can be accessed."
   ]
  },
  {
   "cell_type": "code",
   "execution_count": 398,
   "metadata": {},
   "outputs": [
    {
     "name": "stdout",
     "output_type": "stream",
     "text": [
      "New York City - https://en.wikipedia.org/wiki/New_York_City\n",
      "Los Angelas - https://en.wikipedia.org/wiki/Los_Angeles\n",
      "Chicago - https://en.wikipedia.org/wiki/Chicago\n",
      "Houston - https://en.wikipedia.org/wiki/Houston\n",
      "Phoenix - https://en.wikipedia.org/wiki/Phoenix,_Arizona\n",
      "Philadelphia - https://en.wikipedia.org/wiki/Philadelphia\n",
      "San Antonio - https://en.wikipedia.org/wiki/San_Antonio\n",
      "San Diego - https://en.wikipedia.org/wiki/San_Diego\n",
      "Dallas - https://en.wikipedia.org/wiki/Dallas\n",
      "San Jose - https://en.wikipedia.org/wiki/San_Jose,_California\n",
      "Austin - https://en.wikipedia.org/wiki/Austin,_Texas\n",
      "Jacksonville - https://en.wikipedia.org/wiki/Jacksonville,_Florida\n",
      "Fort Worth - https://en.wikipedia.org/wiki/Fort_Worth,_Texas\n",
      "Columbus - https://en.wikipedia.org/wiki/Columbus,_Ohio\n",
      "Charlotte - https://en.wikipedia.org/wiki/Charlotte,_North_Carolina\n",
      "San Francisco - https://en.wikipedia.org/wiki/San_Francisco\n",
      "Indianapolis - https://en.wikipedia.org/wiki/Indianapolis\n",
      "Seattle - https://en.wikipedia.org/wiki/Seattle\n",
      "Denver - https://en.wikipedia.org/wiki/Denver\n",
      "Washington - https://en.wikipedia.org/wiki/Washington,_D.C.\n",
      "Boston - https://en.wikipedia.org/wiki/Boston\n",
      "El Paso - https://en.wikipedia.org/wiki/El_Paso,_Texas\n",
      "Nashville - https://en.wikipedia.org/wiki/Nashville,_Tennessee\n",
      "Detroit - https://en.wikipedia.org/wiki/Detroit\n",
      "Oklahoma City - https://en.wikipedia.org/wiki/Oklahoma_City\n",
      "Atlanta - https://en.wikipedia.org/wiki/Atlanta\n"
     ]
    }
   ],
   "source": [
    "# Start with the string match approach (exact match)\n",
    "# File content extracted from https://en.wikipedia.org/wiki/List_of_United_States_cities_by_population\n",
    "df_cities = pd.read_csv(\"US_Cities.csv\")\n",
    "# Print the Text and URL from each row, showcasing how to loop through the contents \n",
    "for i, row in df_cities.iterrows():\n",
    "    print(row[\"Text\"] + \" - \" + row[\"URL\"])"
   ]
  },
  {
   "cell_type": "markdown",
   "metadata": {},
   "source": [
    "**(TO DO) Q6 - 3 marks**  \n",
    "Complete the *enhance_text_with_resource* function below. It receives the text from the document via *document_text*, the dataframe from the external resource to enhance the text with as *resource_df*, and the name of the file that you will output the results into (a .html file) as *filename*.   \n",
    "\n",
    "This function parses the text of the document and replaces any *entities* (.ents) found within the text with:    \n",
    "<a href=\\\"Some URL\">Entity text</a\\>     \n",
    "\n",
    "After enhancing the text with entity linking, we write the enhanced text into an html file and return the enhanced text"
   ]
  },
  {
   "cell_type": "code",
   "execution_count": 481,
   "metadata": {},
   "outputs": [],
   "source": [
    "def enhance_text_with_resource(document_text, resource_df, filename):\n",
    "    '''\n",
    "    With a resource and document's text, enhance any entity found in the resource by linking the entity to\n",
    "    the appropriate webpage.\n",
    "    Write the file to the appropriate filename and return the enhanced text\n",
    "    '''\n",
    "    enhanced_text = document_text\n",
    "    # TODO: Parse the document with spaCy\n",
    "    text_sp = sp(document_text)\n",
    "    # TODO: Go through the entities and edit the document's text accordingly\n",
    "    # Note: Be sure to not duplicate your enhancementes\n",
    "    Changed_List=[]\n",
    "    for token in text_sp.ents:\n",
    "        for i, row in resource_df.iterrows():\n",
    "            if token.text == row[\"Text\"] and token.text not in Changed_List:\n",
    "                Changed_List+=[str(token.text)]\n",
    "                replacestring='<a href=\"'+str(row[\"URL\"])+'\">'+str(row[\"Text\"])+'</a>'\n",
    "                enhanced_text = enhanced_text.replace(token.text,replacestring)                                          \n",
    "    \n",
    "    # Write the result as an HTML file\n",
    "    with open(filename, \"w\", encoding=\"utf-8\") as f:\n",
    "        f.write(enhanced_text)\n",
    "        f.close()\n",
    "    return enhanced_text"
   ]
  },
  {
   "cell_type": "markdown",
   "metadata": {},
   "source": [
    "**(TO DO) Q7 - 3 marks**  \n",
    "With the text enhancement algorithm designed (*enhance_text_with_resource*), you will now test the functionality when running the algorithm with three different resources. You will test the algorithm for each document already loaded in the code cell and run the algorithms with the following three resources:    \n",
    "1) A file containing several US cities: *US_Cities.csv*      \n",
    "2) A file containing all Provinces in Canada: *Canada_Provinces.csv*        \n",
    "3) A file containing several Canadian Universities: *Canada_Universities.csv*        "
   ]
  },
  {
   "cell_type": "code",
   "execution_count": 483,
   "metadata": {},
   "outputs": [
    {
     "data": {
      "text/plain": [
       "'The latest:  Federal government announces new measures to mobilize scientists. Saskatchewan unveils five-stage plan to reopen\\xa0its\\xa0economy. The Calgary Stampede is cancelled for the first time in nearly a century. North Korea claims it has had no coronavirus cases. COVID-19 has brought research into other medical conditions to a grinding halt. Ending Quebec\\'s lockdown could mean freedom for some, but not for all. The pandemic is giving some countries political cover for controversial acts. INTERACTIVE |\\xa0See the latest data on coronavirus cases\\xa0in Canada. Have a coronavirus question or news tip for CBC News? Email: Covid@cbc.ca  The federal government has announced a $1.1-billion plan\\xa0to marshal Canada\\'s scientific community in the fight against the coronavirus, as some provinces with relatively fewer cases begin to weigh how they will relax restrictions put in place to slow the spread of\\xa0COVID-19. Scientists around the globe are scrambling to come up with tests, treatments to lessen the severity of the disease and\\xa0ultimately, a vaccine to protect against the coronavirus that has killed more than 2,000 Canadians and almost 200,000 people worldwide. At his Thursday news conference outside Rideau Cottage in Ottawa, Prime Minister Justin Trudeau said the government was putting in place a three-point medical and research strategy. WATCH | Trudeau lays out the government\\'s strategy: Prime Minister Justin Trudeau announced a $1.1 billion strategy to fund COVID-19 medical research and a task force to study immunity. 3:53 This plan includes:  $155 million for research on vaccines and other treatments, support for clinical trials\\xa0and expanding national testing and modelling.\\xa0 $662 million for clinical trials led by Canada. $350 million to expand national testing and modelling of COVID-19, including a COVID-19 immunity task force that includes Dr. David Naylor, Dr. Catherine Hankins, Dr. Tim Evans, Dr. Theresa Tam and Dr. Mona Nemer.  In mid-March, the Trudeau government\\xa0committed $275 million for research, as part of the first emergency aid package. That was supplemented later in the month with the creation of a new strategic innovation fund, which provided another $192 million to specific companies and research institutions working on the development of drugs and vaccines. A laboratory technologist at LifeLabs demonstrates one of the steps taken when a specimen is tested for COVID-19 at the company\\'s lab in Surrey, B.C., on March 26. (Darryl Dyck/The Canadian Press) As well, the government has provided $52 million through national granting councils to almost 100 research teams across the country. With several provinces beginning to talk cautiously about reopening the economy, which has been virtually shut down since mid-March, the pressure is on to find reliable, rapid tests to determine who is infected with the virus and who has developed immunity to it. Saskatchewan\\'s reopening plan Saskatchewan became the first province Thursday to outline a concrete plan\\xa0for how some businesses and services could be allowed to resume next month provided\\xa0the number of cases there stays low.\\xa0 Premier Scott Moe said\\xa0restrictions will be lifted\\xa0May 4 for dentists\\' offices, optometry clinics and physical therapy providers. Golf courses will reopen\\xa0May 15 and retail shops selling clothing, books, flowers and sporting goods might be allowed to open their doors on May 19. A runner and walker keep their distance from each other on the Charlottetown boardwalk in late March. P.E.I. is among the provinces eyeing the relaxation of some COVID-19-related restrictions. (Brian McInnis/CBC) Hairdressers and barbers could also start seeing clients again on May 19, but employees working directly with the public would have to wear masks. Physical distancing and strict cleanliness standards would have to be maintained through every phase.\\xa0 For the next\\xa0phases\\xa0— for which there are no start dates yet —\\xa0officials would consider lifting restrictions on indoor and outdoor recreational and entertainment facilities and bumping up the size of allowable gatherings to 30 people from the current 10. The final phase of the plan would include\\xa0lifting restrictions on crowd sizes, visits to long-term care facilities and non-essential travel. Moe has already said those will stay put for some time. The government\\'s plan doesn\\'t provide a timeline for when gyms might be allowed to operate or when daycare capacity might be increased. Nor does it give a time frame for food services and restaurants to reopen, but when they do, they will be expected to operate at half their capacity. Prince Edward Island, where the COVID-19 caseload is low, is aiming to ease measures put in place to slow the spread in late April and reopen businesses in mid-May. \\'Not exactly islands\\'\\xa0 Dr. Craig Jenne, an infectious disease researcher at the University of Calgary, said easing restrictions in one province could present challenges for others. \"Many provinces in Canada have no hard borders,\" he said in an interview with The Canadian Press. \"Alberta, Saskatchewan, Manitoba — we are not exactly islands where we can cut off travel between provinces. \"We are going to have to make sure we\\'re on the same page with this.\" \\'Failing our parents, our grandparents\\': Trudeau Trudeau said\\xa0the military will respond to provincial requests for assistance at long-term care facilities. But he said\\xa0the measure is a short-term solution and that Canada should not need soldiers to take care of seniors. \"If you\\'re angry, frustrated, scared, you\\'re right to feel this way. We can do better. We need to do better. Because we are failing our parents, our grandparents, our elders.\" WATCH | Should long-term care homes be federally regulated? Prime Minister Justin Trudeau spoke with reporters on Thursday. 1:12 The comments today followed requests by Ontario and Quebec on Wednesday for hundreds of soldiers to help long-term care facilities that have been hit hard by COVID-19. The Canadian Armed Forces is now assessing what more it can provide to respond to these requests. Trudeau said\\xa0the government is sending the military to help in long-term care homes in Ontario and Quebec\\xa0—\\xa0130 troops were sent to help five long-term care facilities in Quebec last week\\xa0—\\xa0but said\\xa0it should never have come to this, and there are tough questions to be asked once the crisis is over. The outbreak of COVID-19 in long-term care homes has outraged many Canadians and Trudeau said\\xa0that outrage is not misplaced. WATCH | Dr. Nathan Stall says there wasn\\'t enough attention paid to long-term care residences during pre-pandemic planning: Dr. Nathan Stall, a geriatrician from Sinai Health System, says there wasn\\'t enough attention paid to long-term care residences during pre-pandemic planning. 1:16 During his daily briefing Thursday, Ontario Premier Doug Ford, whose mother-in-law is in a long-term care home and has just tested positive for COVID-19,\\xa0paused to gather himself before pledging to improve Ontario\\'s long-term care system. \"I recognize the system is broken,\" he later said. WATCH | Doug Ford\\'s full response: His voice cracking, Ontario Premier Doug Ford vowed to \\'do better\\' for the people in long-term care facilities. 1:27 Quebec resident Jonathan Marchand, who has muscular dystrophy, told CBC News\\xa0that it\\'s not only the elderly who are vulnerable in those long-term care institutions.\\xa0 \"It\\'s not a safe environment,\" he said. \"What I want is to get out of here.\" WATCH | Quebec man talks about feeling unsafe in his long-term care home: Quebec long-term care resident Jonathan Marchand, who has muscular dystrophy, says he wants the right to be cared for outside of an institution. 5:08 Thousands of layoffs in transportation The pandemic also continues to wreak havoc on\\xa0the Canadian economy. Calgary-based WestJet says a further 3,000 of its workers will be laid off in early May as demand for flights craters. In Toronto, the city\\'s transit commission said it plans to temporarily lay off 1,200 workers. As of 7\\xa0p.m. ET Thursday, there were 2,232\\xa0COVID-19-related deaths in Canada, plus two reported COVID-19-linked deaths of Canadians abroad, according to a\\xa0CBC News tally\\xa0based on provincial and local health data, as well as CBC reporting. There are 42,110 confirmed and presumptive cases, and 14,774\\xa0resolved cases among the provinces and territories that make such data public.\\xa0 INTERACTIVECoronavirus tracker: 56,000+ cases in Canada on Saturday\\'We have a whole globe to protect\\': Pandemic vaccine research speeds up Here\\'s a look at what\\'s happening in Canada, the U.S. and around the world. Here\\'s a look at what\\'s happening in the provinces and territories British Columbia has confirmed an outbreak at a second poultry processing plant.\\xa0Provincial Health Officer\\xa0Dr. Bonnie Henry\\xa0said Thursday that two\\xa0cases have been identified at the\\xa0Superior Poultry plant in Coquitlam, a sister plant to the United Poultry location in Vancouver, where 29 people have\\xa0tested positive for the coronavirus.\\xa0Read more about what\\'s happening in B.C. Alberta has cancelled the Calgary Stampede for the first time in almost 100 years. The July event typically draws a million spectators.\\xa0Organizers have already laid off 80 per cent of its staff.\\xa0Read more about what\\'s happening in Alberta. WATCH |\\xa0COVID-19 outbreak forces Alberta meat-processing plant to close: A COVID-19 outbreak at the Cargill meat processing plant in High River, Alta., has forced the facility to temporarily close, raising concerns about beef prices and supply. 3:03 In Saskatchewan, a team of\\xa0College of Engineering grad students and staff at the University of Saskatchewan\\xa0is trying to create a new reusable medical mask in an effort to reduce the global shortage of N95 respirators.\\xa0The team is collaborating with the Saskatchewan Health Authority.\\xa0Read more about what\\'s happening in Saskatchewan. Manitoba reported\\xa0five new cases of COVID-19,\\xa0its biggest single-day jump in nearly two weeks.\\xa0Of the new patients, two are in their 20s, two in their 30s and one is\\xa0in their 80s.\\xa0Read more about what\\'s happening in Manitoba. Ontario, environmental groups are raising concerns after the government changed its rules to allow it to approve some projects without public consultation. The provincial environment minister says the exemption is intended only for projects related to the pandemic that need to be built quickly, but the bulletin on the province\\'s website doesn\\'t specify that. Read about that issue here, and\\xa0read more about what\\'s happening in Ontario here. In Quebec, nurses in Montreal who have volunteered to work in a private long-term care home where more than half the residents have tested positive for COVID-19 say there is \"shockingly little\" protective gear available for employees. CHSLD Vigi Mont-Royal has more than 150 residents who have tested positive for the virus. Read more about the care home here, and\\xa0read more about what\\'s happening in Quebec here.\\xa0 New Brunswick officials warned the province is not in the clear, even though only 14 active cases remain there. Chief Medical Officer Dr. Jennifer Russell said the province\\'s success has \"given us a chance to get ready for what comes next,\" but that physical distancing will be in place for \"weeks and months ahead.\" Premier Blaine\\xa0Higgs said businesses should prepare to reopen, while also respecting physical-distancing measures.\\xa0Read more about what\\'s happening in N.B.  Web searches during COVID-19 reveal Canadians\\' anxieties  Nova Scotia\\'s four new COVID-19 deaths are all connected to long-term care homes. The province has also seen higher infection rates among women, who account for 59 per cent of cases.\\xa0Chief Medical Officer Dr. Robert Strang says it\\'s because more women live in long-term care homes and more women work in those facilities, too.\\xa0Read more about what\\'s happening in Nova Scotia. Prince Edward Island, with\\xa0only two active cases, is focusing on screening people at its small number of entry points. Checkpoints at Confederation Bridge and Charlottetown Airport have been in place since March 21, and now the province says people could be on the hook for a quick return flight\\xa0if their travel there is not essential.\\xa0Read more about what\\'s happening in P.E.I. WATCH | What to do when you return from the grocery store: Andrew Chang explains what you should do after you’ve brought your supplies home from the grocery store. 1:05 In Newfoundland and Labrador,\\xa0chief medical officer of\\xa0health Dr. Janice Fitzgerald says the province will be able to relax some\\xa0distancing measures in the near future, but warns that residents shouldn\\'t expect a full return to normal any\\xa0time soon. There have been no new cases reported in the province for five days.\\xa0Read more about what\\'s happening in N.L. In the North,\\xa0territorial health authorities are testing less than before, despite expanded criteria. Dr. Sarah Cook, the Northwest Territories\\' territorial medical director, said that\\'s partly because other public health measures have been effective.\\xa0Read more about what\\'s happening across the North. Here\\'s a look at what\\'s happening in the U.S. From The Associated Press and Reuters, updated at 7:30\\xa0p.m. ET The U.S. House of Representatives on Thursday passed a $484 billion US bill to expand federal loans to small businesses impacted by the coronavirus outbreak and hospitals overwhelmed by patients suffering from COVID-19. By a vote of 388-5, the House passed the measure, which was unanimously approved on Tuesday by the Senate. It now goes to President Donald Trump for signing into law.\\xa0 The House also approved a select committee, with subpoena power, to probe the U.S. response to the coronavirus. It will have broad powers to investigate U.S. preparedness, how federal dollars are being spent, and Trump administration deliberations. That aid came as another\\xa04.4 million Americans filed for government jobless benefits for the first time last week, as joblessness continues to hit the U.S. economy at a breathtaking pace. Bronx Draft House manager Jonas Silva hands over a free meal to a first responder on April 23, 2020, in New York City. On Thursday, Gov. Andrew Cuomo said a new study suggested 2.7 million residents across the state may already have antibodies for COVID-19. (David Dee Delgado/Getty Images) The figure brings the total number of newly jobless people in the United States\\xa0in the past five weeks to more than 26 million. That\\'s more than the entire number of new jobs created in the U.S. economy since the financial crisis of 2008. As of 9\\xa0p.m., there were more than\\xa0867,000 confirmed cases and nearly 50,000 deaths in the country, according to a Johns Hopkins University tally.\\xa0  1st known U.S. coronavirus death occurred weeks earlier than thought in California Gun killings in U.S. cities: The scourge not even a pandemic lockdown can stop  On Thursday,\\xa0New York Gov. Andrew\\xa0Cuomo announced a screening of 3,000 people in the state found nearly 14 per cent tested positive for antibodies for the\\xa0coronavirus, suggesting that 2.7 million residents across New York may have been infected with the disease.\\xa0 Cuomo noted that the survey was preliminary and had limitations, though at least initially indicated a fatality rate of about 0.5 per cent of confirmed cases, far lower than some experts feared.\\xa0\\xa0 Visitors to the Department of Labor are turned away at the door by personnel due to closures over coronavirus concerns, Wednesday, March 18, 2020, in New York. Applications for jobless benefits are surging in some states as coronavirus concerns shake the U.S. economy. The sharp increase comes as governments have ordered millions of workers, students and shoppers to stay home as a precaution against spreading the virus that causes the COVID-19 disease.  (AP Photo/John Minchillo) (John Minchillo/Associated Press)\\xa0 Meanwhile, shares of American pharmaceutical company Gilead Sciences fell more than\\xa0four\\xa0per cent Thursday, after the Financial Times reported its experimental coronavirus drug failed its first randomized clinical trial. The report cited draft documents published accidentally by the World Health Organization. In a statement on Friday, Gilead said the post included inappropriate characterizations of the study and that the study was terminated early due to low enrolment and, as a result, it was underpowered to enable statistically meaningful conclusions. Here\\'s what\\'s happening around the world From The Associated Press and Reuters, updated at 7:30 p.m. ET European Union leaders edged forward on Thursday toward joint financing of an economic recovery from the coronavirus pandemic\\xa0by agreeing to ask the European Commission to work out the details of such common support. A pupil walks between distanced tables as she arrives for a test at a secondary school in Berlin on April 22. (Tobias Schwarz/AFP/Getty Images) Still, a decision is likely months away as member countries disagree on how much financial aid should be given out.\\xa0 Austria, Denmark, Sweden and the Netherlands all opposed recovery aid through grants, while a broader northern camp — including Germany — were in favour of linking a new Recovery Fund to the bloc\\'s next long-term budget for 2021-27, sources said.   EU holds critical virtual summit on setting yearslong budget in a time of pandemic   Hard-hit Italy called for a Recovery Fund of 1.5 trillion euros\\xa0($2.3 trillion Cdn) as well as grants to member states, while French President Emmanuel Macron said Europe\\'s response required financial transfers to the hardest-hit states, and not just loans. Macron also said the European project had no future if member states failed to respond to the \"exceptional shock.\"\\xa0\\xa0\\xa0 The World Health Organization said it would announce a \"landmark collaboration\" on Friday to speed development of safe, effective drugs, tests and vaccines to prevent, diagnose and treat COVID-19. The Geneva-based agency, in a brief statement issued late on Thursday, said the initiative with partners aims to make technologies against the disease caused by the novel coronavirus \"accessible to everyone who needs them, worldwide,\" but gave no details. With more than 22,000 officially recorded deaths, officials in Spain are now preparing for rolling back some of the strict lockdown\\xa0restrictions. The confinement has helped slow the daily contagion rate increase from more than 20 per cent\\xa0to less than two\\xa0per cent, although Spain has not been testing widely and the real contagion is believed to be higher. Health-care workers attend a coronavirus patient at the intensive care unit of the Principe de Asturias hospital in Alcala de Henares, near Madrid, on April 22. (Pierre-Philippe Marcou/AFP/Getty Images) China says Australian calls for an independent investigation into the cause of the coronavirus outbreak are politically motivated and unhelpful in dealing with the global pandemic.\\xa0Australia is among a number of countries and localities that are calling for more information from China about where the virus originated and whether all efforts were made to stop it spreading across China and then around the globe. China also said on Thursday\\xa0it would donate a further $30 million US to the World Health Organization, about a week after U.S. President Donald Trump announced that U.S. funding would be halted while Washington reviewed the WHO\\'s role \"in severely mismanaging and covering up the spread of the coronavirus.\"\\xa0 British Prime Minister Boris Johnson is planning to return to work as early as Monday after being hospitalized earlier this month with COVID-19, the Telegraph reported, even as the U.K.\\xa0economy is crumbling under the strain of the coronavirus lockdown. A business owner uses a thermal fogger as he disinfects trucks at a haulage firm in Barnsley, south Yorkshire, U.K., on April 22. (Oli Scarff/AFP/Getty Images) North Korea has told the World Health Organization it tested 740 people for the new coronavirus as of April 17 but that all came out negative.\\xa0That claim is being questioned by many outside experts. South Korea\\'s\\xa0health authorities are planning to soon begin antibody tests to learn how widespread the coronavirus infection is within the population. They are also researching how long people maintain immunity after recovering from COVID-19.\\xa0 South Africa\\'s President Cyril Ramaphosa said the government will allow a partial reopening of the economy on May 1, with travel restrictions eased and some industries allowed to operate under a five-level risk system. International borders will remain closed while travel will be only allowed for essential services. COVID-19 cases surged 43 per cent in the past week across\\xa0Africa, reaching 26,000 according to the director of the Africa Centers for Disease Control and Prevention. The figures underscored a recent warning from the World Health Organization that the virus could kill more than 300,000 people in the continent and push 30 million into desperate poverty.\\xa0 Ecuador\\'s health minister said on Thursday the country\\'s coronavirus case total was twice as high as previously confirmed, as authorities added 11,000 new infections that resulted from delayed testing. With 560 confirmed deaths, the outbreak has ravaged the economy of the oil-producing country and overwhelmed sanitary authorities in the largest city of Guayaquil, where corpses remained in homes or for hours on the streets.'"
      ]
     },
     "execution_count": 483,
     "metadata": {},
     "output_type": "execute_result"
    }
   ],
   "source": [
    "# Enhance the text for the document below with the US cities\n",
    "doc = df[\"text\"][6]\n",
    "df_cities = pd.read_csv(\"US_Cities.csv\")\n",
    "# TODO \n",
    "enhance_text_with_resource(doc, df_cities, \"enhanced_US_cities.html\")\n",
    "\n",
    "# Enhance the text for the document below with the Canadian provinces\n",
    "# File extracted from https://en.wikipedia.org/wiki/Provinces_and_territories_of_Canada\n",
    "doc = df[\"text\"][53]\n",
    "df_provinces = pd.read_csv(\"Canada_Provinces.csv\")\n",
    "# TODO\n",
    "enhance_text_with_resource(doc, df_provinces, \"enhanced_Canada_Provinces.html\")\n",
    "\n",
    "# Enhance the text for the document below with the Canadian universities\n",
    "# File extracted from https://en.wikipedia.org/wiki/List_of_universities_in_Canada\n",
    "doc = df[\"text\"][53]\n",
    "df_universities = pd.read_csv(\"Canada_Universities.csv\")\n",
    "# TODO\n",
    "enhance_text_with_resource(doc, df_universities, \"enhanced_Canada_Universities.html\")\n"
   ]
  },
  {
   "cell_type": "markdown",
   "metadata": {},
   "source": [
    "Now, if you open the saved HTML files, you should find that the words that appear in the text and the resource now link directly to relevant information for that entity. We would also be able to enhance a document with many resources to link as many entities as possible."
   ]
  },
  {
   "cell_type": "markdown",
   "metadata": {},
   "source": [
    "**(TO DO) Q8 - 2 marks**  \n",
    "Look through the enhanced texts that are generated by your tests in Q7. Do you see any universities that are not linked to when using the university resource? Why? Use the code cell below to output anything that you may need to investigate (if you have already noticed why this occurs earlier in the notebook, you do not need to investigate to find out why in the code cell) and answer the question in the markdown below that code cell.      \n",
    "\n",
    "Note: To find out, you should look through the .csv files and the text itself (both the initial text and spaCy's entity detection)."
   ]
  },
  {
   "cell_type": "code",
   "execution_count": null,
   "metadata": {},
   "outputs": [],
   "source": [
    "# Look through any outputs that may seem off to help understand why (if not already known)"
   ]
  },
  {
   "cell_type": "markdown",
   "metadata": {},
   "source": [
    "TODO \n",
    "Problem: In the file \"enhanced_Canada_Universities.html\" there are two Canadian Universities: University of Calgary and University of Saskatchewan that are not linked by unsing the \"enhance_text_with_resource\" function. \n",
    "\n",
    "Reason: In the file \"Canada_Universities.csv\" the Text column contents are not only one word (example: Alberta) and they are multiple words (example: University of Alberta). Basically the name of universities will not triggered when we check the data frame by tokens. We need either to normalize the text to include the name of Universities not just cities/provinces. The other approach is we need to detect a compound word like \"University of Alberta\" instead of only one word \"Alberta\". The way the function \"enhance_text_with_resource\" is written does not satisfy the explained problem above."
   ]
  },
  {
   "cell_type": "markdown",
   "metadata": {},
   "source": [
    "**(TO DO) Q9 - 2 marks**  \n",
    "We will now combine some of the work done in Part 1 of this notebook with the work done in this part of the notebook. Specifically, we will perform NER type validation to ensure that when we enhance text with a resource that it only enhanced entities of the correct NER type. For example, when we use the resource of cities or provinces, ensure the entitiy that we are looking at is classified as a GPE before expanding it. The same concept applies for universities, which should be classified as an ORG.     \n",
    "\n",
    "Copy over your definition of the *enhance_text_with_resource* function, extend it to also accept an NER type as input (ex: *PERSON*, *ORG*, ...) and ensure that the text enhancement only occurs if *at least one entity with the same surface form* from the document contains the same NER type that was provided to the input parameter. This new function is named *enhance_text_with_resource_and_type*.    \n",
    "\n",
    "*NOTE (can ignore - just for more information):* In reality we would like to have it set such that only an entity of a specified type has its corresponding set of tokens within the text to be linked to the resource. However, this process can be tricky since the logic will involve creating flags within the text to know which entities have already been checked (ex: If *Nova Scotia* appears twice in the text, each instance with its own NER type, then we need to know the set of tokens that we are editing for each of the entities). Thus, you only need to ensure that if at least one entity of the same surface form contains the NER type and is in the text, then all instances of those entities are updated. If a resource contains the entities in the text, but they are all of a different type, ignore them. You are free to implement the more robust method detailed above if you like, but are recommended to perform the more simplistic approach that the question asks for."
   ]
  },
  {
   "cell_type": "code",
   "execution_count": 488,
   "metadata": {},
   "outputs": [],
   "source": [
    "def enhance_text_with_resource_and_type(document_text, resource_df, filename, NER_type):\n",
    "    '''\n",
    "    With a NER type, a resource and document's text, enhance any entity found in the resource by linking the entity to\n",
    "    the appropriate webpage if at least one surface form contains the specified NER type.\n",
    "    Write the file to the appropriate filename and return the enhanced text\n",
    "    '''\n",
    "    enhanced_text = document_text\n",
    "    \n",
    "    # TODO\n",
    "    text_sp = sp(document_text)\n",
    "    Changed_List=[]\n",
    "    for token in text_sp.ents:\n",
    "        for i, row in resource_df.iterrows():\n",
    "            if token.text==row[\"Text\"] and token.label_==NER_type and token.text not in Changed_List:\n",
    "                Changed_List+=[str(token.text)]\n",
    "                replacestring='<a href=\"'+str(row[\"URL\"])+'\">'+str(row[\"Text\"])+'</a>'\n",
    "                enhanced_text = enhanced_text.replace(token.text,replacestring)   \n",
    "    \n",
    "    # Write the result as an HTML file\n",
    "    with open(filename, \"w\", encoding=\"utf-8\") as f:\n",
    "        f.write(enhanced_text)\n",
    "        f.close()\n",
    "    return enhanced_text"
   ]
  },
  {
   "cell_type": "markdown",
   "metadata": {},
   "source": [
    "**(TO DO) Q10 - 2 marks**  \n",
    "Redo the tests performed in Q7 with the newly defined *enhance_text_with_resource* function. Ensure that you use the appropriate NER type depending on the resource being used for entitly linking."
   ]
  },
  {
   "cell_type": "code",
   "execution_count": 489,
   "metadata": {},
   "outputs": [
    {
     "data": {
      "text/plain": [
       "'The latest:  Federal government announces new measures to mobilize scientists. Saskatchewan unveils five-stage plan to reopen\\xa0its\\xa0economy. The Calgary Stampede is cancelled for the first time in nearly a century. North Korea claims it has had no coronavirus cases. COVID-19 has brought research into other medical conditions to a grinding halt. Ending Quebec\\'s lockdown could mean freedom for some, but not for all. The pandemic is giving some countries political cover for controversial acts. INTERACTIVE |\\xa0See the latest data on coronavirus cases\\xa0in Canada. Have a coronavirus question or news tip for CBC News? Email: Covid@cbc.ca  The federal government has announced a $1.1-billion plan\\xa0to marshal Canada\\'s scientific community in the fight against the coronavirus, as some provinces with relatively fewer cases begin to weigh how they will relax restrictions put in place to slow the spread of\\xa0COVID-19. Scientists around the globe are scrambling to come up with tests, treatments to lessen the severity of the disease and\\xa0ultimately, a vaccine to protect against the coronavirus that has killed more than 2,000 Canadians and almost 200,000 people worldwide. At his Thursday news conference outside Rideau Cottage in Ottawa, Prime Minister Justin Trudeau said the government was putting in place a three-point medical and research strategy. WATCH | Trudeau lays out the government\\'s strategy: Prime Minister Justin Trudeau announced a $1.1 billion strategy to fund COVID-19 medical research and a task force to study immunity. 3:53 This plan includes:  $155 million for research on vaccines and other treatments, support for clinical trials\\xa0and expanding national testing and modelling.\\xa0 $662 million for clinical trials led by Canada. $350 million to expand national testing and modelling of COVID-19, including a COVID-19 immunity task force that includes Dr. David Naylor, Dr. Catherine Hankins, Dr. Tim Evans, Dr. Theresa Tam and Dr. Mona Nemer.  In mid-March, the Trudeau government\\xa0committed $275 million for research, as part of the first emergency aid package. That was supplemented later in the month with the creation of a new strategic innovation fund, which provided another $192 million to specific companies and research institutions working on the development of drugs and vaccines. A laboratory technologist at LifeLabs demonstrates one of the steps taken when a specimen is tested for COVID-19 at the company\\'s lab in Surrey, B.C., on March 26. (Darryl Dyck/The Canadian Press) As well, the government has provided $52 million through national granting councils to almost 100 research teams across the country. With several provinces beginning to talk cautiously about reopening the economy, which has been virtually shut down since mid-March, the pressure is on to find reliable, rapid tests to determine who is infected with the virus and who has developed immunity to it. Saskatchewan\\'s reopening plan Saskatchewan became the first province Thursday to outline a concrete plan\\xa0for how some businesses and services could be allowed to resume next month provided\\xa0the number of cases there stays low.\\xa0 Premier Scott Moe said\\xa0restrictions will be lifted\\xa0May 4 for dentists\\' offices, optometry clinics and physical therapy providers. Golf courses will reopen\\xa0May 15 and retail shops selling clothing, books, flowers and sporting goods might be allowed to open their doors on May 19. A runner and walker keep their distance from each other on the Charlottetown boardwalk in late March. P.E.I. is among the provinces eyeing the relaxation of some COVID-19-related restrictions. (Brian McInnis/CBC) Hairdressers and barbers could also start seeing clients again on May 19, but employees working directly with the public would have to wear masks. Physical distancing and strict cleanliness standards would have to be maintained through every phase.\\xa0 For the next\\xa0phases\\xa0— for which there are no start dates yet —\\xa0officials would consider lifting restrictions on indoor and outdoor recreational and entertainment facilities and bumping up the size of allowable gatherings to 30 people from the current 10. The final phase of the plan would include\\xa0lifting restrictions on crowd sizes, visits to long-term care facilities and non-essential travel. Moe has already said those will stay put for some time. The government\\'s plan doesn\\'t provide a timeline for when gyms might be allowed to operate or when daycare capacity might be increased. Nor does it give a time frame for food services and restaurants to reopen, but when they do, they will be expected to operate at half their capacity. Prince Edward Island, where the COVID-19 caseload is low, is aiming to ease measures put in place to slow the spread in late April and reopen businesses in mid-May. \\'Not exactly islands\\'\\xa0 Dr. Craig Jenne, an infectious disease researcher at the University of Calgary, said easing restrictions in one province could present challenges for others. \"Many provinces in Canada have no hard borders,\" he said in an interview with The Canadian Press. \"Alberta, Saskatchewan, Manitoba — we are not exactly islands where we can cut off travel between provinces. \"We are going to have to make sure we\\'re on the same page with this.\" \\'Failing our parents, our grandparents\\': Trudeau Trudeau said\\xa0the military will respond to provincial requests for assistance at long-term care facilities. But he said\\xa0the measure is a short-term solution and that Canada should not need soldiers to take care of seniors. \"If you\\'re angry, frustrated, scared, you\\'re right to feel this way. We can do better. We need to do better. Because we are failing our parents, our grandparents, our elders.\" WATCH | Should long-term care homes be federally regulated? Prime Minister Justin Trudeau spoke with reporters on Thursday. 1:12 The comments today followed requests by Ontario and Quebec on Wednesday for hundreds of soldiers to help long-term care facilities that have been hit hard by COVID-19. The Canadian Armed Forces is now assessing what more it can provide to respond to these requests. Trudeau said\\xa0the government is sending the military to help in long-term care homes in Ontario and Quebec\\xa0—\\xa0130 troops were sent to help five long-term care facilities in Quebec last week\\xa0—\\xa0but said\\xa0it should never have come to this, and there are tough questions to be asked once the crisis is over. The outbreak of COVID-19 in long-term care homes has outraged many Canadians and Trudeau said\\xa0that outrage is not misplaced. WATCH | Dr. Nathan Stall says there wasn\\'t enough attention paid to long-term care residences during pre-pandemic planning: Dr. Nathan Stall, a geriatrician from Sinai Health System, says there wasn\\'t enough attention paid to long-term care residences during pre-pandemic planning. 1:16 During his daily briefing Thursday, Ontario Premier Doug Ford, whose mother-in-law is in a long-term care home and has just tested positive for COVID-19,\\xa0paused to gather himself before pledging to improve Ontario\\'s long-term care system. \"I recognize the system is broken,\" he later said. WATCH | Doug Ford\\'s full response: His voice cracking, Ontario Premier Doug Ford vowed to \\'do better\\' for the people in long-term care facilities. 1:27 Quebec resident Jonathan Marchand, who has muscular dystrophy, told CBC News\\xa0that it\\'s not only the elderly who are vulnerable in those long-term care institutions.\\xa0 \"It\\'s not a safe environment,\" he said. \"What I want is to get out of here.\" WATCH | Quebec man talks about feeling unsafe in his long-term care home: Quebec long-term care resident Jonathan Marchand, who has muscular dystrophy, says he wants the right to be cared for outside of an institution. 5:08 Thousands of layoffs in transportation The pandemic also continues to wreak havoc on\\xa0the Canadian economy. Calgary-based WestJet says a further 3,000 of its workers will be laid off in early May as demand for flights craters. In Toronto, the city\\'s transit commission said it plans to temporarily lay off 1,200 workers. As of 7\\xa0p.m. ET Thursday, there were 2,232\\xa0COVID-19-related deaths in Canada, plus two reported COVID-19-linked deaths of Canadians abroad, according to a\\xa0CBC News tally\\xa0based on provincial and local health data, as well as CBC reporting. There are 42,110 confirmed and presumptive cases, and 14,774\\xa0resolved cases among the provinces and territories that make such data public.\\xa0 INTERACTIVECoronavirus tracker: 56,000+ cases in Canada on Saturday\\'We have a whole globe to protect\\': Pandemic vaccine research speeds up Here\\'s a look at what\\'s happening in Canada, the U.S. and around the world. Here\\'s a look at what\\'s happening in the provinces and territories British Columbia has confirmed an outbreak at a second poultry processing plant.\\xa0Provincial Health Officer\\xa0Dr. Bonnie Henry\\xa0said Thursday that two\\xa0cases have been identified at the\\xa0Superior Poultry plant in Coquitlam, a sister plant to the United Poultry location in Vancouver, where 29 people have\\xa0tested positive for the coronavirus.\\xa0Read more about what\\'s happening in B.C. Alberta has cancelled the Calgary Stampede for the first time in almost 100 years. The July event typically draws a million spectators.\\xa0Organizers have already laid off 80 per cent of its staff.\\xa0Read more about what\\'s happening in Alberta. WATCH |\\xa0COVID-19 outbreak forces Alberta meat-processing plant to close: A COVID-19 outbreak at the Cargill meat processing plant in High River, Alta., has forced the facility to temporarily close, raising concerns about beef prices and supply. 3:03 In Saskatchewan, a team of\\xa0College of Engineering grad students and staff at the University of Saskatchewan\\xa0is trying to create a new reusable medical mask in an effort to reduce the global shortage of N95 respirators.\\xa0The team is collaborating with the Saskatchewan Health Authority.\\xa0Read more about what\\'s happening in Saskatchewan. Manitoba reported\\xa0five new cases of COVID-19,\\xa0its biggest single-day jump in nearly two weeks.\\xa0Of the new patients, two are in their 20s, two in their 30s and one is\\xa0in their 80s.\\xa0Read more about what\\'s happening in Manitoba. Ontario, environmental groups are raising concerns after the government changed its rules to allow it to approve some projects without public consultation. The provincial environment minister says the exemption is intended only for projects related to the pandemic that need to be built quickly, but the bulletin on the province\\'s website doesn\\'t specify that. Read about that issue here, and\\xa0read more about what\\'s happening in Ontario here. In Quebec, nurses in Montreal who have volunteered to work in a private long-term care home where more than half the residents have tested positive for COVID-19 say there is \"shockingly little\" protective gear available for employees. CHSLD Vigi Mont-Royal has more than 150 residents who have tested positive for the virus. Read more about the care home here, and\\xa0read more about what\\'s happening in Quebec here.\\xa0 New Brunswick officials warned the province is not in the clear, even though only 14 active cases remain there. Chief Medical Officer Dr. Jennifer Russell said the province\\'s success has \"given us a chance to get ready for what comes next,\" but that physical distancing will be in place for \"weeks and months ahead.\" Premier Blaine\\xa0Higgs said businesses should prepare to reopen, while also respecting physical-distancing measures.\\xa0Read more about what\\'s happening in N.B.  Web searches during COVID-19 reveal Canadians\\' anxieties  Nova Scotia\\'s four new COVID-19 deaths are all connected to long-term care homes. The province has also seen higher infection rates among women, who account for 59 per cent of cases.\\xa0Chief Medical Officer Dr. Robert Strang says it\\'s because more women live in long-term care homes and more women work in those facilities, too.\\xa0Read more about what\\'s happening in Nova Scotia. Prince Edward Island, with\\xa0only two active cases, is focusing on screening people at its small number of entry points. Checkpoints at Confederation Bridge and Charlottetown Airport have been in place since March 21, and now the province says people could be on the hook for a quick return flight\\xa0if their travel there is not essential.\\xa0Read more about what\\'s happening in P.E.I. WATCH | What to do when you return from the grocery store: Andrew Chang explains what you should do after you’ve brought your supplies home from the grocery store. 1:05 In Newfoundland and Labrador,\\xa0chief medical officer of\\xa0health Dr. Janice Fitzgerald says the province will be able to relax some\\xa0distancing measures in the near future, but warns that residents shouldn\\'t expect a full return to normal any\\xa0time soon. There have been no new cases reported in the province for five days.\\xa0Read more about what\\'s happening in N.L. In the North,\\xa0territorial health authorities are testing less than before, despite expanded criteria. Dr. Sarah Cook, the Northwest Territories\\' territorial medical director, said that\\'s partly because other public health measures have been effective.\\xa0Read more about what\\'s happening across the North. Here\\'s a look at what\\'s happening in the U.S. From The Associated Press and Reuters, updated at 7:30\\xa0p.m. ET The U.S. House of Representatives on Thursday passed a $484 billion US bill to expand federal loans to small businesses impacted by the coronavirus outbreak and hospitals overwhelmed by patients suffering from COVID-19. By a vote of 388-5, the House passed the measure, which was unanimously approved on Tuesday by the Senate. It now goes to President Donald Trump for signing into law.\\xa0 The House also approved a select committee, with subpoena power, to probe the U.S. response to the coronavirus. It will have broad powers to investigate U.S. preparedness, how federal dollars are being spent, and Trump administration deliberations. That aid came as another\\xa04.4 million Americans filed for government jobless benefits for the first time last week, as joblessness continues to hit the U.S. economy at a breathtaking pace. Bronx Draft House manager Jonas Silva hands over a free meal to a first responder on April 23, 2020, in New York City. On Thursday, Gov. Andrew Cuomo said a new study suggested 2.7 million residents across the state may already have antibodies for COVID-19. (David Dee Delgado/Getty Images) The figure brings the total number of newly jobless people in the United States\\xa0in the past five weeks to more than 26 million. That\\'s more than the entire number of new jobs created in the U.S. economy since the financial crisis of 2008. As of 9\\xa0p.m., there were more than\\xa0867,000 confirmed cases and nearly 50,000 deaths in the country, according to a Johns Hopkins University tally.\\xa0  1st known U.S. coronavirus death occurred weeks earlier than thought in California Gun killings in U.S. cities: The scourge not even a pandemic lockdown can stop  On Thursday,\\xa0New York Gov. Andrew\\xa0Cuomo announced a screening of 3,000 people in the state found nearly 14 per cent tested positive for antibodies for the\\xa0coronavirus, suggesting that 2.7 million residents across New York may have been infected with the disease.\\xa0 Cuomo noted that the survey was preliminary and had limitations, though at least initially indicated a fatality rate of about 0.5 per cent of confirmed cases, far lower than some experts feared.\\xa0\\xa0 Visitors to the Department of Labor are turned away at the door by personnel due to closures over coronavirus concerns, Wednesday, March 18, 2020, in New York. Applications for jobless benefits are surging in some states as coronavirus concerns shake the U.S. economy. The sharp increase comes as governments have ordered millions of workers, students and shoppers to stay home as a precaution against spreading the virus that causes the COVID-19 disease.  (AP Photo/John Minchillo) (John Minchillo/Associated Press)\\xa0 Meanwhile, shares of American pharmaceutical company Gilead Sciences fell more than\\xa0four\\xa0per cent Thursday, after the Financial Times reported its experimental coronavirus drug failed its first randomized clinical trial. The report cited draft documents published accidentally by the World Health Organization. In a statement on Friday, Gilead said the post included inappropriate characterizations of the study and that the study was terminated early due to low enrolment and, as a result, it was underpowered to enable statistically meaningful conclusions. Here\\'s what\\'s happening around the world From The Associated Press and Reuters, updated at 7:30 p.m. ET European Union leaders edged forward on Thursday toward joint financing of an economic recovery from the coronavirus pandemic\\xa0by agreeing to ask the European Commission to work out the details of such common support. A pupil walks between distanced tables as she arrives for a test at a secondary school in Berlin on April 22. (Tobias Schwarz/AFP/Getty Images) Still, a decision is likely months away as member countries disagree on how much financial aid should be given out.\\xa0 Austria, Denmark, Sweden and the Netherlands all opposed recovery aid through grants, while a broader northern camp — including Germany — were in favour of linking a new Recovery Fund to the bloc\\'s next long-term budget for 2021-27, sources said.   EU holds critical virtual summit on setting yearslong budget in a time of pandemic   Hard-hit Italy called for a Recovery Fund of 1.5 trillion euros\\xa0($2.3 trillion Cdn) as well as grants to member states, while French President Emmanuel Macron said Europe\\'s response required financial transfers to the hardest-hit states, and not just loans. Macron also said the European project had no future if member states failed to respond to the \"exceptional shock.\"\\xa0\\xa0\\xa0 The World Health Organization said it would announce a \"landmark collaboration\" on Friday to speed development of safe, effective drugs, tests and vaccines to prevent, diagnose and treat COVID-19. The Geneva-based agency, in a brief statement issued late on Thursday, said the initiative with partners aims to make technologies against the disease caused by the novel coronavirus \"accessible to everyone who needs them, worldwide,\" but gave no details. With more than 22,000 officially recorded deaths, officials in Spain are now preparing for rolling back some of the strict lockdown\\xa0restrictions. The confinement has helped slow the daily contagion rate increase from more than 20 per cent\\xa0to less than two\\xa0per cent, although Spain has not been testing widely and the real contagion is believed to be higher. Health-care workers attend a coronavirus patient at the intensive care unit of the Principe de Asturias hospital in Alcala de Henares, near Madrid, on April 22. (Pierre-Philippe Marcou/AFP/Getty Images) China says Australian calls for an independent investigation into the cause of the coronavirus outbreak are politically motivated and unhelpful in dealing with the global pandemic.\\xa0Australia is among a number of countries and localities that are calling for more information from China about where the virus originated and whether all efforts were made to stop it spreading across China and then around the globe. China also said on Thursday\\xa0it would donate a further $30 million US to the World Health Organization, about a week after U.S. President Donald Trump announced that U.S. funding would be halted while Washington reviewed the WHO\\'s role \"in severely mismanaging and covering up the spread of the coronavirus.\"\\xa0 British Prime Minister Boris Johnson is planning to return to work as early as Monday after being hospitalized earlier this month with COVID-19, the Telegraph reported, even as the U.K.\\xa0economy is crumbling under the strain of the coronavirus lockdown. A business owner uses a thermal fogger as he disinfects trucks at a haulage firm in Barnsley, south Yorkshire, U.K., on April 22. (Oli Scarff/AFP/Getty Images) North Korea has told the World Health Organization it tested 740 people for the new coronavirus as of April 17 but that all came out negative.\\xa0That claim is being questioned by many outside experts. South Korea\\'s\\xa0health authorities are planning to soon begin antibody tests to learn how widespread the coronavirus infection is within the population. They are also researching how long people maintain immunity after recovering from COVID-19.\\xa0 South Africa\\'s President Cyril Ramaphosa said the government will allow a partial reopening of the economy on May 1, with travel restrictions eased and some industries allowed to operate under a five-level risk system. International borders will remain closed while travel will be only allowed for essential services. COVID-19 cases surged 43 per cent in the past week across\\xa0Africa, reaching 26,000 according to the director of the Africa Centers for Disease Control and Prevention. The figures underscored a recent warning from the World Health Organization that the virus could kill more than 300,000 people in the continent and push 30 million into desperate poverty.\\xa0 Ecuador\\'s health minister said on Thursday the country\\'s coronavirus case total was twice as high as previously confirmed, as authorities added 11,000 new infections that resulted from delayed testing. With 560 confirmed deaths, the outbreak has ravaged the economy of the oil-producing country and overwhelmed sanitary authorities in the largest city of Guayaquil, where corpses remained in homes or for hours on the streets.'"
      ]
     },
     "execution_count": 489,
     "metadata": {},
     "output_type": "execute_result"
    }
   ],
   "source": [
    "# Enhance the text for the document below with the US cities\n",
    "doc = df[\"text\"][6]\n",
    "df_cities = pd.read_csv(\"US_Cities.csv\")\n",
    "enhance_text_with_resource_and_type(doc, df_cities,\"enhanced_US_cities.html\",'GPE')\n",
    "\n",
    "# Enhance the text for the document below with the Canadian provinces\n",
    "# File extracted from https://en.wikipedia.org/wiki/Provinces_and_territories_of_Canada\n",
    "doc = df[\"text\"][53]\n",
    "df_provinces = pd.read_csv(\"Canada_Provinces.csv\")\n",
    "enhance_text_with_resource_and_type(doc, df_provinces,\"enhanced_Canada_Provinces.html\",'GPE')\n",
    "\n",
    "# Enhance the text for the document below with the Canadian universities\n",
    "# File extracted from https://en.wikipedia.org/wiki/List_of_universities_in_Canada\n",
    "doc = df[\"text\"][53]\n",
    "df_universities = pd.read_csv(\"Canada_Universities.csv\")\n",
    "enhance_text_with_resource_and_type(doc, df_universities,\"enhanced_Canada_Universities.html\",'ORG')"
   ]
  },
  {
   "cell_type": "markdown",
   "metadata": {},
   "source": [
    "***SIGNATURE:***\n",
    "My name is Fatemeh Soltani.\n",
    "My student number is 300139153.\n",
    "I certify being the author of this assignment."
   ]
  }
 ],
 "metadata": {
  "kernelspec": {
   "display_name": "Python 3",
   "language": "python",
   "name": "python3"
  },
  "language_info": {
   "codemirror_mode": {
    "name": "ipython",
    "version": 3
   },
   "file_extension": ".py",
   "mimetype": "text/x-python",
   "name": "python",
   "nbconvert_exporter": "python",
   "pygments_lexer": "ipython3",
   "version": "3.7.6"
  }
 },
 "nbformat": 4,
 "nbformat_minor": 2
}

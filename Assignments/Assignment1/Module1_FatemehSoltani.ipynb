{
 "cells": [
  {
   "cell_type": "markdown",
   "metadata": {},
   "source": [
    "# Notebook 1 - Fuzzy Logic"
   ]
  },
  {
   "cell_type": "markdown",
   "metadata": {},
   "source": [
    "CSI4106 Artificial Intelligence  \n",
    "Fall 2020  \n",
    "Prepared by Julian Templeton and Caroline Barrière"
   ]
  },
  {
   "attachments": {
    "image.png": {
     "image/png": "[encoded data removed]"
    }
   },
   "cell_type": "markdown",
   "metadata": {},
   "source": [
    "***INTRODUCTION***:   \n",
    "We will look at an example of applying fuzzy logic to a problem programmatically. Throughout the notebook, linguistic variables will be defined that represent the components of the problem. These variables will be used alongside specific rules to solve a problem. This is done through the use of fuzzification, the application of inference rules, and the defuzzification of the result.   \n",
    "   \n",
    "The fuzzy logic system that we are building will help someone decide on which activity to do and for how long. This will depend on how close he/she is to the weekend and on how busy he/she is. The three possible activited are: Yoga, Playing games, and Skiing. The fuzzy rules that we will define in our fuzzy logic system will apply on two possible antecedents (two linguistic variables) Day and Busy. An overview is shown below in *Image 1*.    \n",
    "\n",
    "![image.png](attachment:image.png)\n",
    "   \n",
    "By performing all core components of a fuzzy logic system to solve a problem statement, you will improve your understanding of how fuzzy logic can be applied to real-world problems and how each component of a fuzzy logic system works.    \n",
    "\n",
    "An important note to keep in mind when staring the notebook is that there are classes with a decent amount of code, but you will only need to **use the functions from the LinguisticVariable class** when performing a step that uses a variable from that class. Thus, do not be intimidated if it seems like a lot of code since you will just need to call the appropriate functions when they are needed.    \n",
    "\n",
    "One library that will be used is matplotlib which is an excellent graphing library. The library allows you to create many different types of plots from your data and customize the graphs accordingly. To install matplotlib, run the following command in your console: *pip install matplotlib*"
   ]
  },
  {
   "cell_type": "markdown",
   "metadata": {},
   "source": [
    "***HOMEWORK***:  \n",
    "Go through the notebook by running each cell, one at a time. If you see an error, you can fix the issue and re-run the cells.  \n",
    "Look for **(TO DO)** for the tasks that you need to perform.  Once you're done, submit your notebook. \n",
    "\n",
    "*The notebook will be marked on 30.  \n",
    "Each **(TO DO)** has a number of points associated with it.*\n",
    "***"
   ]
  },
  {
   "cell_type": "code",
   "execution_count": 7,
   "metadata": {},
   "outputs": [],
   "source": [
    "# Imports\n",
    "# Call pip install matplotlib in the console to install this library\n",
    "import matplotlib.pyplot as plt"
   ]
  },
  {
   "cell_type": "markdown",
   "metadata": {},
   "source": [
    "**1. Definition of a linguistic variable.**  \n",
    "A linguistic variable is represented by its name, its possible values, and its fuzzy subsets. This can be represented by a triplet (V, X, T). The classes below define each component of a linguistic variable. The LinguisticVariable class' constructor accepts its name (V from the triplet) and the names of the values associated with the variable in the form of a list (X from the triplet). The fuzzy subsets (T in the triplet) are added after the linguistic variable is defined.     \n",
    "\n",
    "An important note about this class is that the possible values that are passed to the LinguisticVariable object can be of two types:\n",
    "1. [name1, name2, name3, ..., nameN], where each name is a discrete value associated with the variable and are all strings\n",
    "2. [(num1, num2)], where num1 and num2 are integers that represent a continuous range of real numbers in the form of a tuple     \n",
    "\n",
    "These possible values are stored in the possible_values list of the LinguisticVariable class and are later passed to the value_names list in the Values class.    \n",
    "\n",
    "Another note is that the Values class stores a list of mathematical equations under its .functions variable. This is a list of lambda expressions that execute mathematical functions. This list of functions must be the same length as the list of value_names. This allows the value_names list and functions list to contain the related information at the same index.\n",
    "\n",
    "Ex: value_names[0] --> Tuesday\n",
    "    functions[0] --> lambda x: 0.0\n",
    "    Therefore when we want to find the fuzzy value for Tuesday at some value x, we call functions[0]\\(x) to get that value          \n",
    "    \n",
    "The FuzzySubset class contains many of the core functionalitites that will be used in this notebook. However, you will only need to call functions from the LinguisticVariable class to avoid the manipulation of child elements."
   ]
  },
  {
   "cell_type": "code",
   "execution_count": 8,
   "metadata": {},
   "outputs": [],
   "source": [
    "# DO NOT MAKE ANY CHANGES TO THIS CLASS\n",
    "# You will be asked to call the methods of this class, but NOT to change it\n",
    "\n",
    "class LinguisticVariable():\n",
    "    '''\n",
    "    Represents a linguistic variable that contains a name, a set of values for this variable,\n",
    "    and fuzzy subsets for the values that are used to characterise this variable.\n",
    "    '''\n",
    "    def __init__(self, variable_name, values):\n",
    "        # The name of a variable\n",
    "        self.variable_name = variable_name\n",
    "        # A list of all value names\n",
    "        self.possible_values = values\n",
    "        # The fuzzy suvbsets that characterize variable_name\n",
    "        self.fuzzy_subsets = []\n",
    "        \n",
    "    def add_fuzzy_subset(self, name, functions):\n",
    "        '''\n",
    "        Defines a fuzzy_subset of the specified name and defines functions\n",
    "        for each value pass into the constructor.\n",
    "        The functions are expected to be in the same order as the values that they are for.\n",
    "        Ex: [val1, val2, ...], [function_for_val1, function_for_val2, ...]\n",
    "        '''\n",
    "        self.fuzzy_subsets.append(FuzzySubset(name, self.possible_values, functions))\n",
    "        \n",
    "    def fuzzification(self, fs_name, x):\n",
    "        '''\n",
    "        Finds the fuzzy subset with the specified name (fs_name) and fuzzifies the value x\n",
    "        '''\n",
    "        fs_index = [fs.name.lower() for fs in self.fuzzy_subsets].index(fs_name.lower()) \n",
    "        return self.fuzzy_subsets[fs_index].fuzzification(x)\n",
    "    \n",
    "    def defuzzification_average_maximas(self, fs_name):\n",
    "        '''\n",
    "        By going through each value (increments of 0.5 for continuous variables), returns the average\n",
    "        x-location for the defuzzification of the transfered membership max_membership\n",
    "        '''\n",
    "        fs_index = [fs.name.lower() for fs in self.fuzzy_subsets].index(fs_name.lower())\n",
    "        return self.fuzzy_subsets[fs_index].defuzzification_average_maximas()\n",
    "    \n",
    "    def get_fuzzy_maximum(self, fs_name):\n",
    "        '''\n",
    "        Finds the fuzzy subset with the specified name (fs_name) and returns its maximum\n",
    "        membership degree.\n",
    "        '''\n",
    "        fs_index = [fs.name.lower() for fs in self.fuzzy_subsets].index(fs_name.lower()) \n",
    "        # Return its maximum membership\n",
    "        return self.fuzzy_subsets[fs_index].max_membership\n",
    "    \n",
    "    def set_fuzzy_maximum(self, fs_name, x):\n",
    "        '''\n",
    "        Finds the fuzzy subset with the specified name (fs_name) and assigns x to be its maximum\n",
    "        membership degree (transfers the membership to this fuzzy subset).\n",
    "        '''\n",
    "        fs_index = [fs.name.lower() for fs in self.fuzzy_subsets].index(fs_name.lower()) \n",
    "        # Since max_membership is already set to the maximum available y value, only update if\n",
    "        # x is < the current value.\n",
    "        if (x < self.fuzzy_subsets[fs_index].max_membership):\n",
    "            self.fuzzy_subsets[fs_index].max_membership = x\n",
    "        \n",
    "    def reset_fuzzy_maximums(self):\n",
    "        '''\n",
    "        When a problem is complete, this will reset the maximum_membership values\n",
    "        for all fuzzy variables back to the maxima in its function\n",
    "        '''\n",
    "        for fs in self.fuzzy_subsets:\n",
    "            if (fs.values.isRangedVariable):\n",
    "                fs.max_membership = self.reset_fuzzy_maximum_ranged(fs)\n",
    "            else:\n",
    "                fs.max_membership = self.reset_fuzzy_maximum_discrete(fs)\n",
    "            \n",
    "    def reset_fuzzy_maximum_discrete(self, fs):\n",
    "        '''\n",
    "        Returns the maxima for a fs that describes discrete variable\n",
    "        '''\n",
    "        vals = [] # The values for each value\n",
    "        # Go through the values associated with the fuzzy subset\n",
    "        for value in fs.values.value_names:\n",
    "            vals.append(fs.fuzzification(value))\n",
    "        # Set the variable's fuzzy subset maximum to be the maximum value in the plot\n",
    "        return max(vals)\n",
    "        \n",
    "    def reset_fuzzy_maximum_ranged(self, fs):\n",
    "        '''\n",
    "        Returns the maxima for a fs that describes a range of real numbers\n",
    "        '''\n",
    "        for fs in self.fuzzy_subsets:\n",
    "            vals = []\n",
    "            # Determine the number of points to compute\n",
    "            start = fs.values.value_names[0][0]\n",
    "            stop = fs.values.value_names[0][1] + 1\n",
    "            # Compute the points and store them\n",
    "            # Increment by 0.05 to capture most changes\n",
    "            for i in range(start, stop):\n",
    "                # Can use libraries to make this easier, that is somthing we will explore in future notebooks\n",
    "                for j in range(0, 20):\n",
    "                    x = i + j * 0.05\n",
    "                    vals.append(fs.fuzzification(x))\n",
    "            # Set the variable's fuzzy subset maximum to be the maximum value in the plot\n",
    "            return max(vals)\n",
    "        \n",
    "    def plot(self):\n",
    "        '''\n",
    "        Plots a linguistic variable and automatically detects the type of values that\n",
    "        it contains\n",
    "        '''\n",
    "        if (self.fuzzy_subsets[0].values.isRangedVariable):\n",
    "            self.plot_ranged_variable()\n",
    "        else:\n",
    "            self.plot_discrete_variable()\n",
    "    \n",
    "    def plot_discrete_variable(self):\n",
    "        '''\n",
    "        Plots the linguistic variable if the values are discrete\n",
    "        '''\n",
    "        fig = plt.figure()\n",
    "        axes = fig.add_axes([0, 0, 1, 1])\n",
    "        x_vals = [] # The lavels on the x-axis\n",
    "        plot_values = [] # The values for each value\n",
    "        y_label = \"Variable \" + self.variable_name\n",
    "        # Go through the fuzzy subsets (only one in this notebook)\n",
    "        fs = self.fuzzy_subsets[0]\n",
    "        # Go through the values associated with the fuzzy subset\n",
    "        for value in fs.values.value_names:\n",
    "            x_vals.append(value)\n",
    "            plot_values.append(fs.fuzzification(value))\n",
    "        # Set the variable's fuzzy subset maximum to be the maximum value in the plot\n",
    "        self.fuzzy_subsets[0].max_membership = max(plot_values)\n",
    "        # Add the values to the plot\n",
    "        axes.bar(x_vals, plot_values)\n",
    "        # Show the plot\n",
    "        plt.show()\n",
    "    \n",
    "    def plot_ranged_variable(self):\n",
    "        '''\n",
    "        Plots the linguistic variable if the values are a range\n",
    "        '''\n",
    "        x_label = \"Number of hours\" # Fixed in this notebook, otherwise would add to the tuple\n",
    "        y_label = \"Variable \" + self.variable_name\n",
    "        for fs in self.fuzzy_subsets:\n",
    "            x_points = []\n",
    "            y_points = []\n",
    "            # Determine the number of points to compute\n",
    "            start = fs.values.value_names[0][0]\n",
    "            stop = fs.values.value_names[0][1] + 1\n",
    "            # Compute the points and store them\n",
    "            # Increment by 0.05 to capture most changes\n",
    "            for i in range(start, stop):\n",
    "                # Can use libraries to make this easier, that is somthing we will explore in future notebooks\n",
    "                for j in range(0, 20):\n",
    "                    x = i + j * 0.05\n",
    "                    x_points.append(x)\n",
    "                    y_points.append(fs.fuzzification(x))\n",
    "            # Set the variable's fuzzy subset maximum to be the maximum value in the plot\n",
    "            fs.max_membership = max(y_points)\n",
    "            # Add the points to the plot\n",
    "            plt.plot(x_points, y_points, label=fs.name)\n",
    "        # Add the labels\n",
    "        plt.xlabel(x_label)\n",
    "        plt.ylabel(y_label)\n",
    "        # Define the limits of the plot\n",
    "        axes = plt.gca()\n",
    "        axes.set_xlim([self.fuzzy_subsets[0].values.value_names[0][0], self.fuzzy_subsets[0].values.value_names[0][1]])\n",
    "        axes.set_ylim(0, 1.1)\n",
    "        # Add a grid to the plot\n",
    "        plt.grid()\n",
    "        # Add a legend to the plot\n",
    "        plt.legend()\n",
    "        # Show the plot\n",
    "        plt.show()"
   ]
  },
  {
   "cell_type": "code",
   "execution_count": 9,
   "metadata": {},
   "outputs": [],
   "source": [
    "# DO NOT MAKE ANY CHANGES TO THIS CLASS\n",
    "# This class is used by the LinguisticVariable class.  You will NOT make any calls to this class.\n",
    "\n",
    "class Values():\n",
    "    '''\n",
    "    Stores the names of the values and a list of functions that describe the value for a fuzzy subset.\n",
    "    values: A list of the names of the values. If a numerical range, the list will only contain\n",
    "            a tuple of the form [(num1, num2)] to represent the range between num1 and num2.\n",
    "            Otherwise it will be of the form [name1, name2, ..., nameN].\n",
    "            Assumes that discrete items are strings (so if a number, store as a string)\n",
    "    '''\n",
    "    def __init__(self, value_names, functions):\n",
    "        # True if the first element is a tuple of two integers (num1, num2)\n",
    "        self.isRangedVariable = False\n",
    "        if type(value_names[0]) is tuple:\n",
    "            self.isRangedVariable = True\n",
    "        # The names or range of the values\n",
    "        self.value_names = value_names\n",
    "        # The functions used to compute values for each value (if range, an equation)\n",
    "        # The index is the same as the value index\n",
    "        self.functions = functions"
   ]
  },
  {
   "cell_type": "code",
   "execution_count": 4,
   "metadata": {},
   "outputs": [],
   "source": [
    "# DO NOT MAKE ANY CHANGES TO THIS CLASS\n",
    "# This class is used by the LinguisticVariable class.  You will NOT make any calls to this class.\n",
    "\n",
    "class FuzzySubset():\n",
    "    '''\n",
    "    Represents a single fuzzy subset.\n",
    "    Accepts a name, list of values, and list of lambda equations as input.\n",
    "    The values are stored as a Values object which also contain the functions that the\n",
    "    fuzzy subset maps to each value.\n",
    "    The max_membership parameter represents the maximum membership value that can be given\n",
    "    at a given point in time.\n",
    "    '''\n",
    "    def __init__(self, name, values, functions):\n",
    "        self.name = name\n",
    "        self.values = Values(values, functions)\n",
    "        self.max_membership = 1\n",
    "        \n",
    "    def fuzzification(self, x):\n",
    "        '''\n",
    "        Returns the membership value for the value x\n",
    "        x: The value to be used\n",
    "        '''\n",
    "        membership = -1\n",
    "        if self.values.isRangedVariable:\n",
    "            # If a range, then x is the value within the range\n",
    "            membership = self.values.functions[0](x)\n",
    "        else:\n",
    "            # If not a range, then x represents the index for the appropriate value\n",
    "            value_index = [val.lower() for val in self.values.value_names].index(x.lower()) \n",
    "            membership = self.values.functions[value_index](0)\n",
    "        return membership\n",
    "    \n",
    "    def defuzzification_average_maximas(self):\n",
    "        '''\n",
    "        Using the max_membership value, finds all values >= that value since they are the\n",
    "        maximas after the transferring of membership degree.\n",
    "        Loops through all key points in the plot (since it can be a continuous value) and\n",
    "        averages the x values that are >= max_membership\n",
    "        '''\n",
    "        x_points = []\n",
    "        # Determine the number of points to compute\n",
    "        start = self.values.value_names[0][0]\n",
    "        stop = self.values.value_names[0][1] + 1\n",
    "        # Compute the points and store all maxima x-values\n",
    "        # Increment by 0.05 to capture most changes\n",
    "        for i in range(start, stop):\n",
    "            # Can use libraries to make this easier, that is somthing we will explore in future notebooks\n",
    "            for j in range(0, 20):\n",
    "                x = i + j * 0.05\n",
    "                # Store only if the y-value is a maxima\n",
    "                if self.fuzzification(x) >= self.max_membership:\n",
    "                    x_points.append(x)\n",
    "        # Return the average of all x-values\n",
    "        return sum(x_points) / len(x_points)"
   ]
  },
  {
   "cell_type": "markdown",
   "metadata": {},
   "source": [
    "**2. Creating LinguisticVariable objects.**  \n",
    "With the class definitions above, we are now able to define the various linguistic variables that will be used in this notebook. The following variables will be defined:   \n",
    "1. *Day*: The values are the days of the week and there is only one fuzzy_subset named *Weekend*. This is an antecedent.\n",
    "2. *Busy*: The values are all real numbers in the range [0, 10], representing the number of hours and there are three fuzzy subsets {Little, Moderate, Very}. This is an antecedent.\n",
    "3. *Activity*: The values are all real numbers in the range [0, 10], representing the number of hours and there are currently two fuzzy subsets {Ski, Yoga} (you will define a third later). This is a consequent."
   ]
  },
  {
   "cell_type": "markdown",
   "metadata": {},
   "source": [
    "The first linguistic variable to define is for the Day variable. Below includes all steps for defining the variable (defining the values, the fuzzy variable(s), and defining the function(s) to map a fuzzy variable to every value)."
   ]
  },
  {
   "cell_type": "code",
   "execution_count": 12,
   "metadata": {},
   "outputs": [
    {
     "name": "stdout",
     "output_type": "stream",
     "text": [
      "The Weekend membership for the value Thursday is 0.3\n"
     ]
    }
   ],
   "source": [
    "# Start by defining the values (each dayy of the week)\n",
    "day_values = [\"Sunday\", \"Monday\", \"Tuesday\", \"Wednesday\", \"Thursday\", \"Friday\", \"Saturday\"]\n",
    "# Define the Day linguistic variable\n",
    "day_lv = LinguisticVariable(\"Day\", day_values)\n",
    "# Begin defining the functions for the Weekend fuzzy subset (a function for each value)\n",
    "day_functions = []\n",
    "# For Sunday\n",
    "day_functions.append(lambda x: 0.95)\n",
    "# For Monday\n",
    "day_functions.append(lambda x: 0.0)\n",
    "# For Tuesday\n",
    "day_functions.append(lambda x: 0.0)\n",
    "# For Wednesday\n",
    "day_functions.append(lambda x: 0.0)\n",
    "# For Thursday\n",
    "day_functions.append(lambda x: 0.3)\n",
    "# TODO: See (TODO) Q1 below\n",
    "# For Friday\n",
    "day_functions.append(lambda x: 0.7)\n",
    "# For Saturday\n",
    "day_functions.append(lambda x: 1.0)\n",
    "# Setup the Weekend fuzzy element in the linguistic variable\n",
    "day_lv.add_fuzzy_subset(\"Weekend\", day_functions)\n",
    "\n",
    "# Show the value for Thursday\n",
    "chosenDay = \"Thursday\"\n",
    "# For the first fuzzy subset (weekend), what is the membership of Thursday?\n",
    "chosenDayMembership = day_lv.fuzzy_subsets[0].fuzzification(\"Thursday\")\n",
    "print(\"The Weekend membership for the value \" + chosenDay + \" is \" + str(chosenDayMembership))"
   ]
  },
  {
   "cell_type": "markdown",
   "metadata": {},
   "source": [
    "With the linguistic variable *day_lv* defined, we will plot it to view the graph"
   ]
  },
  {
   "cell_type": "code",
   "execution_count": 13,
   "metadata": {},
   "outputs": [
    {
     "data": {
      "image/png": "[encoded data removed]",
      "text/plain": [
       "<Figure size 432x288 with 1 Axes>"
      ]
     },
     "metadata": {
      "needs_background": "light"
     },
     "output_type": "display_data"
    }
   ],
   "source": [
    "# Plot the linguistic variable\n",
    "day_lv.plot()"
   ]
  },
  {
   "cell_type": "markdown",
   "metadata": {},
   "source": [
    "**(TO DO) Q1 - 1 mark**  \n",
    "In day_lv you see that Friday is set to 0.5 membership to the week-end.  That is too low, since Friday is almost the week-end.  Change the code above (and rerun the cell) to have Friday be at 0.7 membership of week-end."
   ]
  },
  {
   "attachments": {
    "image.png": {
     "image/png": "[encoded data removed]"
    }
   },
   "cell_type": "markdown",
   "metadata": {},
   "source": [
    "**(TO DO) Q2 - 3 marks**  \n",
    "With day_lv defined, we must now define busy_lv for the *Busy* linguistic variable. Following the code templates below, complete the definition of busy_lv.   \n",
    "\n",
    "Recall from the description defined at the beginning of section 2 that this variable use continous variable within a range. These value names are defined by a single tuple of integers [(num1, num2)] rather than a list of strings.\n",
    "\n",
    "The following figure (*Image 2*) exhibits how the plot for the Busy linguistic variable must look when you run the following cell. You will need to complete the definition of busy_lv by finding the correct function to pass for the *Very* fuzzy subset. Examples of how these mathematical equations are defined and added are shown below (the lambda expressions).\n",
    "\n",
    "![image.png](attachment:image.png)"
   ]
  },
  {
   "cell_type": "code",
   "execution_count": 14,
   "metadata": {},
   "outputs": [
    {
     "name": "stdout",
     "output_type": "stream",
     "text": [
      "(0, 10)\n"
     ]
    },
    {
     "data": {
      "image/png": "[encoded data removed]",
      "text/plain": [
       "<Figure size 432x288 with 1 Axes>"
      ]
     },
     "metadata": {
      "needs_background": "light"
     },
     "output_type": "display_data"
    }
   ],
   "source": [
    "# Define the Busy linguistic variable\n",
    "busy_values = [(0, 10)]\n",
    "# TODO: Define the linguistic variable busy_lv\n",
    "busy_lv = LinguisticVariable(\"Busy\", busy_values)\n",
    "busy_functions = []\n",
    "\n",
    "# Define functions for the Little fuzzy set\n",
    "# For (0, 10)\n",
    "busy_functions = [lambda x: -x+3 if 2<=x<=3 else (1 if 0<=x<=2 else 0)]\n",
    "# Setup the Little fuzzy element\n",
    "busy_lv.add_fuzzy_subset(\"Little\", busy_functions)\n",
    "\n",
    "# Define functions for the Moderate fuzzy set\n",
    "# For (0, 10)\n",
    "busy_functions = [lambda x: (x-2)/2 if 2<=x<=4 else ((-x+7)/2 if 5<=x<=7 else (1 if 4<=x<=5 else 0))]\n",
    "# Setup the Moderate fuzzy element\n",
    "busy_lv.add_fuzzy_subset(\"Moderate\", busy_functions)\n",
    "\n",
    "# TODO: Setup the Very busy function and add that fuzzy set\n",
    "# Define functions for the Very fuzzy set\n",
    "# For (0, 10)\n",
    "busy_functions = [lambda x: (1/2)*x-3 if 6<=x<=8 else (1 if 8<=x<=10 else 0)]\n",
    "# Setup the Very fuzzy element\n",
    "busy_lv.add_fuzzy_subset(\"Very\", busy_functions)\n",
    "\n",
    "# Show an example output\n",
    "print(busy_lv.fuzzy_subsets[0].values.value_names[0])\n",
    "busy_lv.fuzzy_subsets[0].values.functions[0](0.1234345)\n",
    "\n",
    "# Plot the graph\n",
    "busy_lv.plot()"
   ]
  },
  {
   "attachments": {
    "image.png": {
     "image/png": "[encoded data removed]"
    }
   },
   "cell_type": "markdown",
   "metadata": {},
   "source": [
    "**(TO DO) Q3 - 4 marks**  \n",
    "Now that we have defined the *Day* and *Busy* linguistic variables, you will define the *Activity* linguistic variable. defined by activity_lv. This variable contains three fuzzy subsets: Yoga, Ski, and Play games. The values for this variable are all real numbers in the range [0, 10].   \n",
    "\n",
    "Below is a plot (*Image 3*) of what the variable must look like after the cell is run below. You must define the functions for the *Ski* fuzzy subset and the *Play games* fuzzy subset to match the the plot below.\n",
    "\n",
    "![image.png](attachment:image.png)"
   ]
  },
  {
   "cell_type": "code",
   "execution_count": 19,
   "metadata": {},
   "outputs": [
    {
     "name": "stdout",
     "output_type": "stream",
     "text": [
      "(0, 10)\n"
     ]
    },
    {
     "data": {
      "image/png": "[encoded data removed]",
      "text/plain": [
       "<Figure size 432x288 with 1 Axes>"
      ]
     },
     "metadata": {
      "needs_background": "light"
     },
     "output_type": "display_data"
    }
   ],
   "source": [
    "# TODO: Instantiate the Activity linguistic variable\n",
    "# Define the Activity linguistic variable\n",
    "activity_values = [(0, 10)]\n",
    "activity_lv = LinguisticVariable(\"Activity\", activity_values)\n",
    "activity_functions = []\n",
    "\n",
    "# TODO: Define the function and add the fuzzy set\n",
    "# Define functions for the Ski fuzzy set\n",
    "# For (0, 10)\n",
    "activity_functions = [lambda x: 0.2*(x-1) if 1<=x<=6 else (1 if 6<=x<=10 else 0)]\n",
    "# Setup the ski fuzzy element\n",
    "activity_lv.add_fuzzy_subset(\"Ski\", activity_functions)\n",
    "\n",
    "# Define functions for the Yoga fuzzy set\n",
    "# For (0, 10)\n",
    "activity_functions = [lambda x: x/1.75 if 0<=x<=1.75 else ((-x+3)/1.25 if 1.75<=x<=3 else 0)]\n",
    "# Setup the yoga fuzzy element\n",
    "activity_lv.add_fuzzy_subset(\"Yoga\", activity_functions)\n",
    "\n",
    "# TODO: Define the function and add the fuzzy set\n",
    "# Define functions for the Play games fuzzy set\n",
    "# For (0, 10)\n",
    "activity_functions = [lambda x: 0.1*x if 3<=x<=7 else (1 if 7<=x<=10 else 0)]\n",
    "# Setup the Play games fuzzy element\n",
    "activity_lv.add_fuzzy_subset(\"Play games\", activity_functions)\n",
    "\n",
    "# Show an example output\n",
    "print(activity_lv.fuzzy_subsets[0].values.value_names[0])\n",
    "activity_lv.fuzzy_subsets[1].values.functions[0](2)\n",
    "\n",
    "# Plot the graph\n",
    "activity_lv.plot()"
   ]
  },
  {
   "cell_type": "markdown",
   "metadata": {},
   "source": [
    " We will now plot all of the graphs again to view the linguistic variables."
   ]
  },
  {
   "cell_type": "code",
   "execution_count": 20,
   "metadata": {},
   "outputs": [
    {
     "data": {
      "image/png": "[encoded data removed]",
      "text/plain": [
       "<Figure size 432x288 with 1 Axes>"
      ]
     },
     "metadata": {
      "needs_background": "light"
     },
     "output_type": "display_data"
    },
    {
     "data": {
      "image/png": "[encoded data removed]",
      "text/plain": [
       "<Figure size 432x288 with 1 Axes>"
      ]
     },
     "metadata": {
      "needs_background": "light"
     },
     "output_type": "display_data"
    },
    {
     "data": {
      "image/png": "[encoded data removed]",
      "text/plain": [
       "<Figure size 432x288 with 1 Axes>"
      ]
     },
     "metadata": {
      "needs_background": "light"
     },
     "output_type": "display_data"
    }
   ],
   "source": [
    "# Plot everything with matplot\n",
    "day_lv.plot()\n",
    "busy_lv.plot()\n",
    "activity_lv.plot()"
   ]
  },
  {
   "cell_type": "markdown",
   "metadata": {},
   "source": [
    "**3. Defining fuzzy if-then rules.**  \n",
    "Now that the linguistic variables have been defined, fuzzy if-then rules (which will just be referred to as rules) can be defined to use when reasoning. These rules can be defined with the fuzzy logic *NOT*, fuzzy logic *AND*, and fuzzy logic *OR* operators. The rules that are defined in this section will be used later along with the *NOT*, *AND*, and *OR* functions that will be completed in this section.    "
   ]
  },
  {
   "cell_type": "markdown",
   "metadata": {},
   "source": [
    "Below are the first two rules that will be considered through the remainder of the notebook.     \n",
    "***\n",
    "*Rule 1* - If it is the *Weekend* and I am *Very Busy*, I will go to *Yoga*.     \n",
    "*Rule 2* - If it is the *Weekend* and I am a *Little Busy* or *Moderately Busy*, I will go to *Ski*.    \n",
    "***"
   ]
  },
  {
   "cell_type": "markdown",
   "metadata": {},
   "source": [
    "**(TO DO) Q4 - 1 mark**  \n",
    "\n",
    "In this cell, define Rule 3 in English to be a rule of your choice with *exactly one fuzzy logic OR*, with *Exactly one fuzzy logic NOT*, and where the consequent is the *Play games* Activity.   \n",
    "***        \n",
    "*Rule 3* - If it is the Weekend and I am Little Busy or Very Busy, I will not Play games.\n",
    "***"
   ]
  },
  {
   "cell_type": "markdown",
   "metadata": {},
   "source": [
    "Next, the fuzzy logic operators must all be implemented. The following *fuzzy_NOT* function is provided as a complete example."
   ]
  },
  {
   "cell_type": "code",
   "execution_count": 25,
   "metadata": {},
   "outputs": [],
   "source": [
    "def fuzzy_NOT(num):\n",
    "    '''\n",
    "    Provides the returned result for the fuzzy logic NOT operator.\n",
    "    num1: The first membership value\n",
    "    num2: The second membership value\n",
    "    returns the numerical fuzzy_NOT operator's result when applied on num1 and num2 rounded to\n",
    "        the second decimal place (due to floating point imprecisions)\n",
    "    '''\n",
    "    return round(1 - num, 2) "
   ]
  },
  {
   "cell_type": "markdown",
   "metadata": {},
   "source": [
    "**(TO DO) Q5 - 2 marks**  \n",
    "In the two cells below, complete the definitions for the fuzzy_OR and fuzzy_AND functions. For more details on these functions, refer to your lecture notes."
   ]
  },
  {
   "cell_type": "code",
   "execution_count": 26,
   "metadata": {},
   "outputs": [],
   "source": [
    "# TODO: Complete the function\n",
    "def fuzzy_OR(num1,num2):\n",
    "    '''\n",
    "    Provides the returned result for the fuzzy logic OR operator.\n",
    "    num1: The first membership value\n",
    "    num2: The second membership value\n",
    "    returns the numerical fuzzy_OR operator's result when applied on num1 and num2\n",
    "    '''\n",
    "    return max(num1, num2)"
   ]
  },
  {
   "cell_type": "code",
   "execution_count": 27,
   "metadata": {},
   "outputs": [],
   "source": [
    "# TODO: Complete the function\n",
    "def fuzzy_AND(num1,num2):\n",
    "    '''\n",
    "    Provides the returned result for the fuzzy logic AND operator.\n",
    "    num1: The first membership value\n",
    "    num2: The second membership value\n",
    "    returns the numerical fuzzy_AND operator's result when applied on num1 and num2\n",
    "    '''\n",
    "    return min(num1, num2)"
   ]
  },
  {
   "cell_type": "markdown",
   "metadata": {},
   "source": [
    "**4. Fuzzification.**  \n",
    "The first step to solving a problem is to perform *fuzzification*. This process has already been programmed for you in the LinguisticVariable class. This *.fuzzification(fs_name, x)* function requires the name of the fuzzy subset and the value which you are want to get the membership fuzzy subset's membership of as input."
   ]
  },
  {
   "cell_type": "markdown",
   "metadata": {},
   "source": [
    "Let us take a look at the following fuzzification example. This will fuzzify the following statement:   \n",
    "*It is Thursday and this first module will take me 2.5 hours to do.*"
   ]
  },
  {
   "cell_type": "code",
   "execution_count": 28,
   "metadata": {},
   "outputs": [
    {
     "name": "stdout",
     "output_type": "stream",
     "text": [
      "It is Thursday and this first module will take me 2.5 hours to do.\n",
      "Thursday has the membership 0.3 for being the Weekend.\n",
      "2.5 hours has the membership 0.5 for being Little busy\n",
      "2.5 hours has the membership 0.25 for being Moderate busy\n",
      "2.5 hours has the membership 0 for being Very busy\n"
     ]
    }
   ],
   "source": [
    "print(\"It is Thursday and this first module will take me 2.5 hours to do.\")\n",
    "# The first value is Thursday, so we will get the membership of weekend for the value Thursday\n",
    "weekend_membership_test = day_lv.fuzzification(\"Weekend\", \"Thursday\")\n",
    "print(\"Thursday has the membership \" + str(weekend_membership_test) + \" for being the Weekend.\")\n",
    "# The second value is that the work will be 2.5 hours, so how Little, Moderate, and Very busy is that?\n",
    "little_membership_test = busy_lv.fuzzification(\"Little\", 2.5)\n",
    "print(\"2.5 hours has the membership \" + str(little_membership_test) + \" for being Little busy\")\n",
    "moderate_membership_test = busy_lv.fuzzification(\"Moderate\", 2.5)\n",
    "print(\"2.5 hours has the membership \" + str(moderate_membership_test) + \" for being Moderate busy\")\n",
    "very_membership_test = busy_lv.fuzzification(\"Very\", 2.5)\n",
    "print(\"2.5 hours has the membership \" + str(very_membership_test) + \" for being Very busy\")"
   ]
  },
  {
   "cell_type": "markdown",
   "metadata": {},
   "source": [
    "ATTENTION ---  The problem that we will want to solve starting now is:     \n",
    "***\n",
    "    Problem Statement: It is Friday and I still have 4 hours of work to do. What activity will I do and for how long?\n",
    "***   \n",
    "This problem statement will be used for the next few sections, so ensure to refer to it when needed. "
   ]
  },
  {
   "cell_type": "markdown",
   "metadata": {},
   "source": [
    "**(TO DO) Q6 - 2 marks**  \n",
    "Perform fuzzification for the problem statement (defined above) in the cell below."
   ]
  },
  {
   "cell_type": "code",
   "execution_count": 30,
   "metadata": {},
   "outputs": [
    {
     "name": "stdout",
     "output_type": "stream",
     "text": [
      "Friday has the membership 0.7 for being the Weekend.\n",
      "4 hours has the membership 0 for being Little busy\n",
      "4 hours has the membership 1.0 for being Moderate busy\n",
      "4 hours has the membership 0 for being Very busy\n"
     ]
    }
   ],
   "source": [
    "# TODO: Add in the fuzzification calls for the appropriate linguistic variables.\n",
    "# Weekend fuzzification\n",
    "weekend_membership = day_lv.fuzzification(\"Weekend\", \"Friday\")\n",
    "print(\"Friday has the membership \" + str(weekend_membership) + \" for being the Weekend.\")\n",
    "# Little fuzzification\n",
    "little_membership = busy_lv.fuzzification(\"Little\", 4)\n",
    "print(\"4 hours has the membership \" + str(little_membership) + \" for being Little busy\")\n",
    "# Moderate fuzzification\n",
    "moderate_membership = busy_lv.fuzzification(\"Moderate\", 4)\n",
    "print(\"4 hours has the membership \" + str(moderate_membership) + \" for being Moderate busy\")\n",
    "# Very fuzzification\n",
    "very_membership = busy_lv.fuzzification(\"Very\", 4)\n",
    "print(\"4 hours has the membership \" + str(very_membership) + \" for being Very busy\")"
   ]
  },
  {
   "cell_type": "markdown",
   "metadata": {},
   "source": [
    "**5. Applying inference rules.**  \n",
    "Now that fuzzification of the problem statement is complete, we can now begin applying the fuzzy logic operators that have been programmed above on the antecedent of the rules that we have defined in part 3 of this notebook.     \n",
    "\n",
    "Below is an example of applying the operators on the antecendent of Rule 1 with the test fuzzification data from the previous step.  \n",
    "\n",
    "When applying the inference rules, we state that they have the following priority (order in which to apply the operators):   \n",
    "1. fuzzy_NOT: All instances of NOT should be applied first\n",
    "2. fuzzy_OR: All instances of OR should be applied next\n",
    "3. fuzzy_AND: All instances of AND should be applied last"
   ]
  },
  {
   "cell_type": "code",
   "execution_count": 31,
   "metadata": {},
   "outputs": [
    {
     "name": "stdout",
     "output_type": "stream",
     "text": [
      "Rule 1 - If it is the Weekend and I am Very Busy, I will go to Yoga.\n",
      "The membership value for Yoga is 0\n"
     ]
    }
   ],
   "source": [
    "print(\"Rule 1 - If it is the Weekend and I am Very Busy, I will go to Yoga.\")\n",
    "# If it is the Weekend AND I am Very busy -> What is the membership of going to yoga\n",
    "rule1_membership_test = fuzzy_AND(weekend_membership_test, very_membership_test)\n",
    "print(\"The membership value for Yoga is \" + str(rule1_membership_test))"
   ]
  },
  {
   "cell_type": "markdown",
   "metadata": {},
   "source": [
    "**(TO DO) Q7 - 2 marks**  \n",
    "For each of the three rules defined in part 3 of this notebook, the two provided to you and the one that you wrote, correctly apply the operators on the antecedent of the rules. This should be done in the cell below, with the results formatted as seen in the example above. Rule 1 has been shown in the previous cell and has already been filled out for you below."
   ]
  },
  {
   "cell_type": "code",
   "execution_count": 53,
   "metadata": {},
   "outputs": [
    {
     "name": "stdout",
     "output_type": "stream",
     "text": [
      "Rule 1 - If it is the Weekend and I am Very Busy, I will go to Yoga.\n",
      "The membership value for Yoga is 0\n",
      "Rule 2 - If it is the Weekend and I am a Little Busy or Moderately Busy, I will go to Ski.\n",
      "The membership value for Ski is 0.7\n",
      "Rule 3 - If it is the Weekend and I am Little Busy or Very Busy, I will not Play games.\n",
      "The membership value for Play games is 1\n"
     ]
    }
   ],
   "source": [
    "# RULE 1\n",
    "print(\"Rule 1 - If it is the Weekend and I am Very Busy, I will go to Yoga.\")\n",
    "rule1_membership = fuzzy_AND(weekend_membership, very_membership)\n",
    "print(\"The membership value for Yoga is \" + str(rule1_membership))\n",
    "\n",
    "#TODO\n",
    "# RULE 2\n",
    "print(\"Rule 2 - If it is the Weekend and I am a Little Busy or Moderately Busy, I will go to Ski.\")\n",
    "rule2_membership = fuzzy_OR(fuzzy_AND(weekend_membership, little_membership), fuzzy_AND(weekend_membership, moderate_membership) )\n",
    "print(\"The membership value for Ski is \" + str(rule2_membership))\n",
    "\n",
    "#TODO\n",
    "# RULE 3\n",
    "print(\"Rule 3 - If it is the Weekend and I am Little Busy or Very Busy, I will not Play games.\")\n",
    "rule3_membership = fuzzy_NOT(fuzzy_OR(fuzzy_AND(weekend_membership, little_membership), fuzzy_AND(weekend_membership, very_membership)))\n",
    "print(\"The membership value for Play games is \" + str(rule3_membership))"
   ]
  },
  {
   "cell_type": "markdown",
   "metadata": {},
   "source": [
    "**(TO DO) Q8 - 2 marks**  \n",
    "With the above membership values, we must transfer the membership degree of the antecedent onto the consequence of each rule. This is done by calling the LinguisticVariable.set_fuzzy_maximum(fs_name, x) function. This function transfers the membership degree x to a fuzzy subset with the name fs_name (in this case, the consequence).   \n",
    "\n",
    "Your task is to transfer the memberships obtained above onto the corresponding Activity fuzzy subsets."
   ]
  },
  {
   "cell_type": "code",
   "execution_count": 72,
   "metadata": {},
   "outputs": [
    {
     "name": "stdout",
     "output_type": "stream",
     "text": [
      "The membership value for rule1 is 0\n",
      "The membership value for rule2 is 0.7\n",
      "The membership value for rule3 is 1\n"
     ]
    }
   ],
   "source": [
    "# TODO: Transfer the membership degrees to the activity_lv fuzzy subsets \n",
    "## rule1_membership\n",
    "print(\"The membership value for rule1 is \" + str(rule1_membership))\n",
    "activity_lv.set_fuzzy_maximum(\"Yoga\", rule1_membership)\n",
    "## rule2_membership\n",
    "print(\"The membership value for rule2 is \" + str(rule2_membership))\n",
    "activity_lv.set_fuzzy_maximum(\"Ski\", rule2_membership)\n",
    "## rule3_membership\n",
    "print(\"The membership value for rule3 is \" + str(rule3_membership))\n",
    "activity_lv.set_fuzzy_maximum(\"Play games\", rule3_membership)"
   ]
  },
  {
   "cell_type": "markdown",
   "metadata": {},
   "source": [
    "**6. Defuzzification.**  \n",
    "\n",
    "The final step to solve the problem statement is to perform defuzzification. This process involves taking a fuzzy input and outputting a crisp output based on one of several potential methods. For this notebook, we will use the average of the x-axis values for which the maximal values found on the y-axis appear. Although more robust methods for performing this exist, we will simply retrieve the locations of the maximal values by retrieving many of the key points of the plot and averaging the x values that produce the maximum y value.   \n",
    "  \n",
    "In the previous section, you have transfered the memberships that you obtained to be the maximum membership degree of the consequence. Thus, the maximal value y value appears at every point greater than or equal to the transferred membership (if there are any), or the overall maximum value otherwise.   \n",
    "\n",
    "The defuzzification must be applied *only* to the fuzzy subset that contains the highest transfered"
   ]
  },
  {
   "cell_type": "markdown",
   "metadata": {},
   "source": [
    "**(TO DO) Q9 - 4 marks**   \n",
    "\n",
    "Your task now is to perform the defuzzification process and answer the problem statment. This consists of three parts that you must complete.    \n",
    " \n",
    "1. Find which fuzzy subset within the Activity linguistic variable contains the largest membership value following the transfer of membership degree that you performed in Q8. You can access the maximum membership value of a fuzzy subset within a linguistic variable by calling *LinguisticVariable.get_fuzzy_maximum(fs_name)*, where fs_name is the name of the fuzzy subset. You must print the name of the fuzzy subset with the largest membership value (from the function calls) and the accompanying value.     \n",
    "2. For only the fuzzy subset that contains the maximum membership value (the selected activity), perform defuzzification on its maximum membership to obtain the crisp output. To perform this defuzzification on the average of the maximas, call the *LinguisticVariable.defuzzification_average_maximas(fs_name)* function, where fs_name is the name of the fuzzy subset. Print the crisp output.     \n",
    "3. From the above, fill in the provided cell with the solution to the problem statement (which activity will be performed and for how long).  "
   ]
  },
  {
   "cell_type": "code",
   "execution_count": 104,
   "metadata": {},
   "outputs": [
    {
     "name": "stdout",
     "output_type": "stream",
     "text": [
      "The maximum membership is 1 for the fuzzy subset Play games\n"
     ]
    }
   ],
   "source": [
    "# (TO DO) Q9 - Part 1\n",
    "# TODO: Determine which fuzzy subset contains the maximum membership value\n",
    "Yoga_value = activity_lv.get_fuzzy_maximum(\"Yoga\")\n",
    "Ski_value = activity_lv.get_fuzzy_maximum(\"Ski\")\n",
    "PlayGames_value = activity_lv.get_fuzzy_maximum(\"Play games\")\n",
    "ls_names = [\"Yoga\",\"Ski\",\"Play games\"]\n",
    "ls_values = [Yoga_value,Ski_value,PlayGames_value]\n",
    "max_value = max(ls_values)\n",
    "max_index = ls_values.index(max_value)\n",
    "maxValueSubset = ls_names[max_index]\n",
    "# TODO: Print the maximum mebership value and the name of the fuzzy subset\n",
    "print(\"The maximum membership is \" + str(max_value) + \" for the fuzzy subset \" + maxValueSubset)"
   ]
  },
  {
   "cell_type": "code",
   "execution_count": 107,
   "metadata": {},
   "outputs": [
    {
     "name": "stdout",
     "output_type": "stream",
     "text": [
      "Defuzzification on the maximum membership is 8.525\n"
     ]
    }
   ],
   "source": [
    "# (TO DO) Q9 - Part 2\n",
    "# TODO: Perform the defuzzification\n",
    "defuzz_max_membership = activity_lv.defuzzification_average_maximas(maxValueSubset)\n",
    "# TODO: Print the crisp output\n",
    "print('Defuzzification on the maximum membership is' , round(defuzz_max_membership, 4))"
   ]
  },
  {
   "cell_type": "markdown",
   "metadata": {},
   "source": [
    "**(TO DO) Q9 - Part 3**     \n",
    "Write the answer to the problem statement below.     \n",
    "It is Friday and I still have 4 hours of work to do. I can play games for 8.5 hours"
   ]
  },
  {
   "cell_type": "markdown",
   "metadata": {},
   "source": [
    "**7. Solving your own problem statement.**  \n",
    "Now that you have completed the entire process of solving a problem statement with fuzzy logic, you will work with a new problem statement and solve it through the use of the linguistic variables and rules that we have defined above. Below are each step that you will need to do in the cells below.     \n",
    "\n",
    "**(TO DO) Q10 - 9 marks**  \n",
    "\n",
    "The problem statement that you will be solving on your own is:   \n",
    "***   \n",
    "    Problem Statement: It is Sunday and I still have 7 hours of work to do. What activity will I do and for how long?\n",
    "***   \n",
    "     \n",
    "1. Perform the fuzzification and print the results of the fuzzification.    \n",
    "2. Apply the fuzzy logic operators on the antecedent of the three rules used throughout this notebook.    \n",
    "3. Transfer the membership degree of the antecedent on the consequence.\n",
    "4. Perform the defuzzification and print the answer to the problem (do not forget to find the maximum membership)."
   ]
  },
  {
   "cell_type": "code",
   "execution_count": 108,
   "metadata": {},
   "outputs": [],
   "source": [
    "# Reset max_membership variable for all fuzzy sets in all linguistic variables\n",
    "# This must be called to properly reset the state of the linguistic variable.\n",
    "day_lv.reset_fuzzy_maximums()\n",
    "busy_lv.reset_fuzzy_maximums()\n",
    "activity_lv.reset_fuzzy_maximums()"
   ]
  },
  {
   "cell_type": "code",
   "execution_count": 115,
   "metadata": {},
   "outputs": [
    {
     "name": "stdout",
     "output_type": "stream",
     "text": [
      "Sunday has the membership 0.95 for being the Weekend.\n",
      "7 hours has the membership 0 for being Little busy\n",
      "7 hours has the membership 0.0 for being Moderate busy\n",
      "7 hours has the membership 0.5 for being Very busy\n",
      "Rule 1 - If it is the Weekend and I am Very Busy, I will go to Yoga.\n",
      "The membership value for Yoga is 0.5\n",
      "Rule 2 - If it is the Weekend and I am a Little Busy or Moderately Busy, I will go to Ski.\n",
      "The membership value for Ski is 0\n",
      "Rule 3 - If it is the Weekend and I am Little Busy or Very Busy, I will not Play games.\n",
      "The membership value for Play games is 0.5\n",
      "The maximum membership is 0.5 for the fuzzy subset Yoga\n",
      "Defuzzification on the maximum membership is 1.625\n",
      "It is Sunday and I still have 7 hours of work to do. I can do Yoga for 97.5 minutes\n"
     ]
    }
   ],
   "source": [
    "# (TO DO) Q10 - Part 1\n",
    "# Perform the fuzzification here and print the results\n",
    "# Weekend fuzzification\n",
    "weekend_membership = day_lv.fuzzification(\"Weekend\", \"Sunday\")\n",
    "print(\"Sunday has the membership \" + str(weekend_membership) + \" for being the Weekend.\")\n",
    "# Little fuzzification\n",
    "little_membership = busy_lv.fuzzification(\"Little\", 7)\n",
    "print(\"7 hours has the membership \" + str(little_membership) + \" for being Little busy\")\n",
    "# Moderate fuzzification\n",
    "moderate_membership = busy_lv.fuzzification(\"Moderate\", 7)\n",
    "print(\"7 hours has the membership \" + str(moderate_membership) + \" for being Moderate busy\")\n",
    "# Very fuzzification\n",
    "very_membership = busy_lv.fuzzification(\"Very\", 7)\n",
    "print(\"7 hours has the membership \" + str(very_membership) + \" for being Very busy\")"
   ]
  },
  {
   "cell_type": "code",
   "execution_count": 118,
   "metadata": {},
   "outputs": [
    {
     "name": "stdout",
     "output_type": "stream",
     "text": [
      "Rule 1 - If it is the Weekend and I am Very Busy, I will go to Yoga.\n",
      "The membership value for Yoga is 0.5\n",
      "Rule 2 - If it is the Weekend and I am a Little Busy or Moderately Busy, I will go to Ski.\n",
      "The membership value for Ski is 0\n",
      "Rule 3 - ...\n",
      "The membership value for Play games is 0.5\n"
     ]
    }
   ],
   "source": [
    "# (TO DO) Q10 - Part 2\n",
    "# Apply the fuzzy logic operators on the antecedent of the three rules used throughout this notebook\n",
    "\n",
    "# TODO\n",
    "# RULE 1\n",
    "print(\"Rule 1 - If it is the Weekend and I am Very Busy, I will go to Yoga.\")\n",
    "rule1_membership = fuzzy_AND(weekend_membership, very_membership)\n",
    "print(\"The membership value for Yoga is \" + str(rule1_membership))\n",
    "\n",
    "# TODO\n",
    "# RULE 2\n",
    "print(\"Rule 2 - If it is the Weekend and I am a Little Busy or Moderately Busy, I will go to Ski.\")\n",
    "rule2_membership = fuzzy_OR(fuzzy_AND(weekend_membership, little_membership), fuzzy_AND(weekend_membership, moderate_membership))\n",
    "print(\"The membership value for Ski is \" + str(rule2_membership))\n",
    "\n",
    "# TODO\n",
    "# RULE 3\n",
    "print(\"Rule 3 - ...\")\n",
    "rule3_membership = fuzzy_NOT(fuzzy_OR(fuzzy_AND(weekend_membership, little_membership), fuzzy_AND(weekend_membership, very_membership)))\n",
    "print(\"The membership value for Play games is \" + str(rule3_membership))"
   ]
  },
  {
   "cell_type": "code",
   "execution_count": 119,
   "metadata": {},
   "outputs": [],
   "source": [
    "# (TO DO) Q10 - Part 3\n",
    "# Transfer the membership degree of the antecedent on the consequence\n",
    "activity_lv.set_fuzzy_maximum(\"Yoga\", rule1_membership)\n",
    "activity_lv.set_fuzzy_maximum(\"Ski\", rule2_membership)\n",
    "activity_lv.set_fuzzy_maximum(\"Play games\", rule3_membership)"
   ]
  },
  {
   "cell_type": "code",
   "execution_count": 120,
   "metadata": {},
   "outputs": [
    {
     "name": "stdout",
     "output_type": "stream",
     "text": [
      "The maximum membership is 0.5 for the fuzzy subset Yoga\n",
      "Defuzzification on the maximum membership is 1.625\n",
      "It is Sunday and I still have 7 hours of work to do. I can do Yoga for 1.625 hours\n",
      "It is Sunday and I still have 7 hours of work to do. I can do Yoga for 97.5 minutes\n"
     ]
    }
   ],
   "source": [
    "# Perform the defuzzification process\n",
    "# TODO: First find the maximum\n",
    "Yoga_value = activity_lv.get_fuzzy_maximum(\"Yoga\")\n",
    "Ski_value = activity_lv.get_fuzzy_maximum(\"Ski\")\n",
    "PlayGames_value = activity_lv.get_fuzzy_maximum(\"Play games\")\n",
    "ls_names = [\"Yoga\",\"Ski\",\"Play games\"]\n",
    "ls_values = [Yoga_value,Ski_value,PlayGames_value]\n",
    "max_value = max(ls_values)\n",
    "max_index = ls_values.index(max_value)\n",
    "maxValueSubset = ls_names[max_index]\n",
    "\n",
    "# TODO: Print the maximum mebership value and the name of the fuzzy subset\n",
    "print(\"The maximum membership is \" + str(max_value) + \" for the fuzzy subset \" + maxValueSubset)\n",
    "\n",
    "# TODO: Perform the defuzzification\n",
    "defuzz_max_membership = activity_lv.defuzzification_average_maximas(maxValueSubset)\n",
    "final_defuzz = round(defuzz_max_membership, 3)\n",
    "print('Defuzzification on the maximum membership is' , final_defuzz)\n",
    "\n",
    "# Print the answer to the problem\n",
    "print('It is Sunday and I still have 7 hours of work to do. I can do', maxValueSubset, 'for', str(final_defuzz), 'hours')\n",
    "print('It is Sunday and I still have 7 hours of work to do. I can do', maxValueSubset, 'for', str(final_defuzz*60), 'minutes')"
   ]
  },
  {
   "cell_type": "markdown",
   "metadata": {},
   "source": [
    "***SIGNATURE:***\n",
    "My name is Fatemeh Soltani.\n",
    "I certify being the author of this assignment."
   ]
  }
 ],
 "metadata": {
  "kernelspec": {
   "display_name": "Python 3",
   "language": "python",
   "name": "python3"
  },
  "language_info": {
   "codemirror_mode": {
    "name": "ipython",
    "version": 3
   },
   "file_extension": ".py",
   "mimetype": "text/x-python",
   "name": "python",
   "nbconvert_exporter": "python",
   "pygments_lexer": "ipython3",
   "version": "3.7.6"
  }
 },
 "nbformat": 4,
 "nbformat_minor": 2
}
